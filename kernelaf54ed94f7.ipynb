{
 "cells": [
  {
   "cell_type": "code",
   "execution_count": 1,
   "metadata": {
    "_cell_guid": "b1076dfc-b9ad-4769-8c92-a6c4dae69d19",
    "_uuid": "8f2839f25d086af736a60e9eeb907d3b93b6e0e5"
   },
   "outputs": [
    {
     "name": "stdout",
     "output_type": "stream",
     "text": [
      "/kaggle/input/summeranalytics2020/train.csv\n",
      "/kaggle/input/summeranalytics2020/Sample_submission.csv\n",
      "/kaggle/input/summeranalytics2020/test.csv\n"
     ]
    }
   ],
   "source": [
    "# This Python 3 environment comes with many helpful analytics libraries installed\n",
    "# It is defined by the kaggle/python Docker image: https://github.com/kaggle/docker-python\n",
    "# For example, here's several helpful packages to load\n",
    "\n",
    "import numpy as np # linear algebra\n",
    "import pandas as pd # data processing, CSV file I/O (e.g. pd.read_csv)\n",
    "\n",
    "# Input data files are available in the read-only \"../input/\" directory\n",
    "# For example, running this (by clicking run or pressing Shift+Enter) will list all files under the input directory\n",
    "\n",
    "import os\n",
    "for dirname, _, filenames in os.walk('/kaggle/input'):\n",
    "    for filename in filenames:\n",
    "        print(os.path.join(dirname, filename))\n",
    "\n",
    "# You can write up to 5GB to the current directory (/kaggle/working/) that gets preserved as output when you create a version using \"Save & Run All\" \n",
    "# You can also write temporary files to /kaggle/temp/, but they won't be saved outside of the current session"
   ]
  },
  {
   "cell_type": "code",
   "execution_count": 2,
   "metadata": {
    "_cell_guid": "79c7e3d0-c299-4dcb-8224-4455121ee9b0",
    "_uuid": "d629ff2d2480ee46fbb7e2d37f6b5fab8052498a"
   },
   "outputs": [],
   "source": [
    "train_df = pd.read_csv('/kaggle/input/summeranalytics2020/train.csv',index_col = 'Id')\n",
    "sample_df = pd.read_csv('/kaggle/input/summeranalytics2020/Sample_submission.csv',index_col = 'Id')\n",
    "test_df = pd.read_csv('/kaggle/input/summeranalytics2020/test.csv',index_col = 'Id')"
   ]
  },
  {
   "cell_type": "code",
   "execution_count": 3,
   "metadata": {},
   "outputs": [
    {
     "data": {
      "text/html": [
       "<div>\n",
       "<style scoped>\n",
       "    .dataframe tbody tr th:only-of-type {\n",
       "        vertical-align: middle;\n",
       "    }\n",
       "\n",
       "    .dataframe tbody tr th {\n",
       "        vertical-align: top;\n",
       "    }\n",
       "\n",
       "    .dataframe thead th {\n",
       "        text-align: right;\n",
       "    }\n",
       "</style>\n",
       "<table border=\"1\" class=\"dataframe\">\n",
       "  <thead>\n",
       "    <tr style=\"text-align: right;\">\n",
       "      <th></th>\n",
       "      <th>Age</th>\n",
       "      <th>Attrition</th>\n",
       "      <th>BusinessTravel</th>\n",
       "      <th>Department</th>\n",
       "      <th>DistanceFromHome</th>\n",
       "      <th>Education</th>\n",
       "      <th>EducationField</th>\n",
       "      <th>EmployeeNumber</th>\n",
       "      <th>EnvironmentSatisfaction</th>\n",
       "      <th>Gender</th>\n",
       "      <th>...</th>\n",
       "      <th>PerformanceRating</th>\n",
       "      <th>StockOptionLevel</th>\n",
       "      <th>TotalWorkingYears</th>\n",
       "      <th>TrainingTimesLastYear</th>\n",
       "      <th>YearsAtCompany</th>\n",
       "      <th>YearsInCurrentRole</th>\n",
       "      <th>YearsSinceLastPromotion</th>\n",
       "      <th>YearsWithCurrManager</th>\n",
       "      <th>CommunicationSkill</th>\n",
       "      <th>Behaviour</th>\n",
       "    </tr>\n",
       "    <tr>\n",
       "      <th>Id</th>\n",
       "      <th></th>\n",
       "      <th></th>\n",
       "      <th></th>\n",
       "      <th></th>\n",
       "      <th></th>\n",
       "      <th></th>\n",
       "      <th></th>\n",
       "      <th></th>\n",
       "      <th></th>\n",
       "      <th></th>\n",
       "      <th></th>\n",
       "      <th></th>\n",
       "      <th></th>\n",
       "      <th></th>\n",
       "      <th></th>\n",
       "      <th></th>\n",
       "      <th></th>\n",
       "      <th></th>\n",
       "      <th></th>\n",
       "      <th></th>\n",
       "      <th></th>\n",
       "    </tr>\n",
       "  </thead>\n",
       "  <tbody>\n",
       "    <tr>\n",
       "      <th>1</th>\n",
       "      <td>30</td>\n",
       "      <td>0</td>\n",
       "      <td>Non-Travel</td>\n",
       "      <td>Research &amp; Development</td>\n",
       "      <td>2</td>\n",
       "      <td>3</td>\n",
       "      <td>Medical</td>\n",
       "      <td>571</td>\n",
       "      <td>3</td>\n",
       "      <td>Female</td>\n",
       "      <td>...</td>\n",
       "      <td>3</td>\n",
       "      <td>0</td>\n",
       "      <td>12</td>\n",
       "      <td>2</td>\n",
       "      <td>11</td>\n",
       "      <td>7</td>\n",
       "      <td>6</td>\n",
       "      <td>7</td>\n",
       "      <td>4</td>\n",
       "      <td>1</td>\n",
       "    </tr>\n",
       "    <tr>\n",
       "      <th>2</th>\n",
       "      <td>36</td>\n",
       "      <td>0</td>\n",
       "      <td>Travel_Rarely</td>\n",
       "      <td>Research &amp; Development</td>\n",
       "      <td>12</td>\n",
       "      <td>4</td>\n",
       "      <td>Life Sciences</td>\n",
       "      <td>1614</td>\n",
       "      <td>3</td>\n",
       "      <td>Female</td>\n",
       "      <td>...</td>\n",
       "      <td>3</td>\n",
       "      <td>2</td>\n",
       "      <td>7</td>\n",
       "      <td>2</td>\n",
       "      <td>3</td>\n",
       "      <td>2</td>\n",
       "      <td>1</td>\n",
       "      <td>1</td>\n",
       "      <td>2</td>\n",
       "      <td>1</td>\n",
       "    </tr>\n",
       "    <tr>\n",
       "      <th>3</th>\n",
       "      <td>55</td>\n",
       "      <td>1</td>\n",
       "      <td>Travel_Rarely</td>\n",
       "      <td>Sales</td>\n",
       "      <td>2</td>\n",
       "      <td>1</td>\n",
       "      <td>Medical</td>\n",
       "      <td>842</td>\n",
       "      <td>3</td>\n",
       "      <td>Male</td>\n",
       "      <td>...</td>\n",
       "      <td>3</td>\n",
       "      <td>0</td>\n",
       "      <td>12</td>\n",
       "      <td>3</td>\n",
       "      <td>9</td>\n",
       "      <td>7</td>\n",
       "      <td>7</td>\n",
       "      <td>3</td>\n",
       "      <td>5</td>\n",
       "      <td>1</td>\n",
       "    </tr>\n",
       "    <tr>\n",
       "      <th>4</th>\n",
       "      <td>39</td>\n",
       "      <td>0</td>\n",
       "      <td>Travel_Rarely</td>\n",
       "      <td>Research &amp; Development</td>\n",
       "      <td>24</td>\n",
       "      <td>1</td>\n",
       "      <td>Life Sciences</td>\n",
       "      <td>2014</td>\n",
       "      <td>1</td>\n",
       "      <td>Male</td>\n",
       "      <td>...</td>\n",
       "      <td>3</td>\n",
       "      <td>0</td>\n",
       "      <td>18</td>\n",
       "      <td>2</td>\n",
       "      <td>7</td>\n",
       "      <td>7</td>\n",
       "      <td>1</td>\n",
       "      <td>7</td>\n",
       "      <td>4</td>\n",
       "      <td>1</td>\n",
       "    </tr>\n",
       "    <tr>\n",
       "      <th>5</th>\n",
       "      <td>37</td>\n",
       "      <td>0</td>\n",
       "      <td>Travel_Rarely</td>\n",
       "      <td>Research &amp; Development</td>\n",
       "      <td>3</td>\n",
       "      <td>3</td>\n",
       "      <td>Other</td>\n",
       "      <td>689</td>\n",
       "      <td>3</td>\n",
       "      <td>Male</td>\n",
       "      <td>...</td>\n",
       "      <td>3</td>\n",
       "      <td>1</td>\n",
       "      <td>10</td>\n",
       "      <td>2</td>\n",
       "      <td>10</td>\n",
       "      <td>7</td>\n",
       "      <td>7</td>\n",
       "      <td>8</td>\n",
       "      <td>1</td>\n",
       "      <td>1</td>\n",
       "    </tr>\n",
       "  </tbody>\n",
       "</table>\n",
       "<p>5 rows × 28 columns</p>\n",
       "</div>"
      ],
      "text/plain": [
       "    Age  Attrition BusinessTravel              Department  DistanceFromHome  \\\n",
       "Id                                                                            \n",
       "1    30          0     Non-Travel  Research & Development                 2   \n",
       "2    36          0  Travel_Rarely  Research & Development                12   \n",
       "3    55          1  Travel_Rarely                   Sales                 2   \n",
       "4    39          0  Travel_Rarely  Research & Development                24   \n",
       "5    37          0  Travel_Rarely  Research & Development                 3   \n",
       "\n",
       "    Education EducationField  EmployeeNumber  EnvironmentSatisfaction  Gender  \\\n",
       "Id                                                                              \n",
       "1           3        Medical             571                        3  Female   \n",
       "2           4  Life Sciences            1614                        3  Female   \n",
       "3           1        Medical             842                        3    Male   \n",
       "4           1  Life Sciences            2014                        1    Male   \n",
       "5           3          Other             689                        3    Male   \n",
       "\n",
       "    ...  PerformanceRating StockOptionLevel  TotalWorkingYears  \\\n",
       "Id  ...                                                          \n",
       "1   ...                  3                0                 12   \n",
       "2   ...                  3                2                  7   \n",
       "3   ...                  3                0                 12   \n",
       "4   ...                  3                0                 18   \n",
       "5   ...                  3                1                 10   \n",
       "\n",
       "   TrainingTimesLastYear  YearsAtCompany  YearsInCurrentRole  \\\n",
       "Id                                                             \n",
       "1                      2              11                   7   \n",
       "2                      2               3                   2   \n",
       "3                      3               9                   7   \n",
       "4                      2               7                   7   \n",
       "5                      2              10                   7   \n",
       "\n",
       "   YearsSinceLastPromotion  YearsWithCurrManager  CommunicationSkill  \\\n",
       "Id                                                                     \n",
       "1                        6                     7                   4   \n",
       "2                        1                     1                   2   \n",
       "3                        7                     3                   5   \n",
       "4                        1                     7                   4   \n",
       "5                        7                     8                   1   \n",
       "\n",
       "    Behaviour  \n",
       "Id             \n",
       "1           1  \n",
       "2           1  \n",
       "3           1  \n",
       "4           1  \n",
       "5           1  \n",
       "\n",
       "[5 rows x 28 columns]"
      ]
     },
     "execution_count": 3,
     "metadata": {},
     "output_type": "execute_result"
    }
   ],
   "source": [
    "train_df.head()"
   ]
  },
  {
   "cell_type": "code",
   "execution_count": 4,
   "metadata": {},
   "outputs": [],
   "source": [
    "Att = train_df.Attrition"
   ]
  },
  {
   "cell_type": "code",
   "execution_count": 5,
   "metadata": {},
   "outputs": [
    {
     "data": {
      "text/plain": [
       "Index(['Age', 'Attrition', 'BusinessTravel', 'Department', 'DistanceFromHome',\n",
       "       'Education', 'EducationField', 'EmployeeNumber',\n",
       "       'EnvironmentSatisfaction', 'Gender', 'JobInvolvement', 'JobRole',\n",
       "       'JobSatisfaction', 'MaritalStatus', 'MonthlyIncome',\n",
       "       'NumCompaniesWorked', 'OverTime', 'PercentSalaryHike',\n",
       "       'PerformanceRating', 'StockOptionLevel', 'TotalWorkingYears',\n",
       "       'TrainingTimesLastYear', 'YearsAtCompany', 'YearsInCurrentRole',\n",
       "       'YearsSinceLastPromotion', 'YearsWithCurrManager', 'CommunicationSkill',\n",
       "       'Behaviour'],\n",
       "      dtype='object')"
      ]
     },
     "execution_count": 5,
     "metadata": {},
     "output_type": "execute_result"
    }
   ],
   "source": [
    "train_df.columns"
   ]
  },
  {
   "cell_type": "code",
   "execution_count": 6,
   "metadata": {},
   "outputs": [
    {
     "data": {
      "text/html": [
       "<div>\n",
       "<style scoped>\n",
       "    .dataframe tbody tr th:only-of-type {\n",
       "        vertical-align: middle;\n",
       "    }\n",
       "\n",
       "    .dataframe tbody tr th {\n",
       "        vertical-align: top;\n",
       "    }\n",
       "\n",
       "    .dataframe thead th {\n",
       "        text-align: right;\n",
       "    }\n",
       "</style>\n",
       "<table border=\"1\" class=\"dataframe\">\n",
       "  <thead>\n",
       "    <tr style=\"text-align: right;\">\n",
       "      <th></th>\n",
       "      <th>Age</th>\n",
       "      <th>Attrition</th>\n",
       "      <th>DistanceFromHome</th>\n",
       "      <th>Education</th>\n",
       "      <th>EmployeeNumber</th>\n",
       "      <th>EnvironmentSatisfaction</th>\n",
       "      <th>JobInvolvement</th>\n",
       "      <th>JobSatisfaction</th>\n",
       "      <th>MonthlyIncome</th>\n",
       "      <th>NumCompaniesWorked</th>\n",
       "      <th>...</th>\n",
       "      <th>PerformanceRating</th>\n",
       "      <th>StockOptionLevel</th>\n",
       "      <th>TotalWorkingYears</th>\n",
       "      <th>TrainingTimesLastYear</th>\n",
       "      <th>YearsAtCompany</th>\n",
       "      <th>YearsInCurrentRole</th>\n",
       "      <th>YearsSinceLastPromotion</th>\n",
       "      <th>YearsWithCurrManager</th>\n",
       "      <th>CommunicationSkill</th>\n",
       "      <th>Behaviour</th>\n",
       "    </tr>\n",
       "  </thead>\n",
       "  <tbody>\n",
       "    <tr>\n",
       "      <th>count</th>\n",
       "      <td>1628.000000</td>\n",
       "      <td>1628.000000</td>\n",
       "      <td>1628.000000</td>\n",
       "      <td>1628.000000</td>\n",
       "      <td>1628.000000</td>\n",
       "      <td>1628.000000</td>\n",
       "      <td>1628.000000</td>\n",
       "      <td>1628.000000</td>\n",
       "      <td>1628.000000</td>\n",
       "      <td>1628.000000</td>\n",
       "      <td>...</td>\n",
       "      <td>1628.000000</td>\n",
       "      <td>1628.000000</td>\n",
       "      <td>1628.000000</td>\n",
       "      <td>1628.000000</td>\n",
       "      <td>1628.000000</td>\n",
       "      <td>1628.000000</td>\n",
       "      <td>1628.000000</td>\n",
       "      <td>1628.000000</td>\n",
       "      <td>1628.000000</td>\n",
       "      <td>1628.0</td>\n",
       "    </tr>\n",
       "    <tr>\n",
       "      <th>mean</th>\n",
       "      <td>35.645577</td>\n",
       "      <td>0.482187</td>\n",
       "      <td>9.735258</td>\n",
       "      <td>2.884521</td>\n",
       "      <td>1000.985872</td>\n",
       "      <td>2.646192</td>\n",
       "      <td>2.650491</td>\n",
       "      <td>2.639435</td>\n",
       "      <td>5785.524570</td>\n",
       "      <td>2.761671</td>\n",
       "      <td>...</td>\n",
       "      <td>3.155405</td>\n",
       "      <td>0.692260</td>\n",
       "      <td>9.949017</td>\n",
       "      <td>2.752457</td>\n",
       "      <td>6.092752</td>\n",
       "      <td>3.614865</td>\n",
       "      <td>2.049140</td>\n",
       "      <td>3.551597</td>\n",
       "      <td>3.135749</td>\n",
       "      <td>1.0</td>\n",
       "    </tr>\n",
       "    <tr>\n",
       "      <th>std</th>\n",
       "      <td>9.481794</td>\n",
       "      <td>0.499836</td>\n",
       "      <td>8.306546</td>\n",
       "      <td>1.020470</td>\n",
       "      <td>585.417694</td>\n",
       "      <td>1.125283</td>\n",
       "      <td>0.736330</td>\n",
       "      <td>1.096272</td>\n",
       "      <td>4339.293147</td>\n",
       "      <td>2.549995</td>\n",
       "      <td>...</td>\n",
       "      <td>0.362402</td>\n",
       "      <td>0.864808</td>\n",
       "      <td>7.482936</td>\n",
       "      <td>1.288033</td>\n",
       "      <td>5.921168</td>\n",
       "      <td>3.481051</td>\n",
       "      <td>3.138287</td>\n",
       "      <td>3.494369</td>\n",
       "      <td>1.408770</td>\n",
       "      <td>0.0</td>\n",
       "    </tr>\n",
       "    <tr>\n",
       "      <th>min</th>\n",
       "      <td>18.000000</td>\n",
       "      <td>0.000000</td>\n",
       "      <td>1.000000</td>\n",
       "      <td>1.000000</td>\n",
       "      <td>1.000000</td>\n",
       "      <td>1.000000</td>\n",
       "      <td>1.000000</td>\n",
       "      <td>1.000000</td>\n",
       "      <td>1009.000000</td>\n",
       "      <td>0.000000</td>\n",
       "      <td>...</td>\n",
       "      <td>3.000000</td>\n",
       "      <td>0.000000</td>\n",
       "      <td>0.000000</td>\n",
       "      <td>0.000000</td>\n",
       "      <td>0.000000</td>\n",
       "      <td>0.000000</td>\n",
       "      <td>0.000000</td>\n",
       "      <td>0.000000</td>\n",
       "      <td>1.000000</td>\n",
       "      <td>1.0</td>\n",
       "    </tr>\n",
       "    <tr>\n",
       "      <th>25%</th>\n",
       "      <td>29.000000</td>\n",
       "      <td>0.000000</td>\n",
       "      <td>2.000000</td>\n",
       "      <td>2.000000</td>\n",
       "      <td>509.250000</td>\n",
       "      <td>2.000000</td>\n",
       "      <td>2.000000</td>\n",
       "      <td>2.000000</td>\n",
       "      <td>2625.000000</td>\n",
       "      <td>1.000000</td>\n",
       "      <td>...</td>\n",
       "      <td>3.000000</td>\n",
       "      <td>0.000000</td>\n",
       "      <td>5.000000</td>\n",
       "      <td>2.000000</td>\n",
       "      <td>2.000000</td>\n",
       "      <td>1.000000</td>\n",
       "      <td>0.000000</td>\n",
       "      <td>0.000000</td>\n",
       "      <td>2.000000</td>\n",
       "      <td>1.0</td>\n",
       "    </tr>\n",
       "    <tr>\n",
       "      <th>50%</th>\n",
       "      <td>34.000000</td>\n",
       "      <td>0.000000</td>\n",
       "      <td>8.000000</td>\n",
       "      <td>3.000000</td>\n",
       "      <td>977.000000</td>\n",
       "      <td>3.000000</td>\n",
       "      <td>3.000000</td>\n",
       "      <td>3.000000</td>\n",
       "      <td>4304.000000</td>\n",
       "      <td>2.000000</td>\n",
       "      <td>...</td>\n",
       "      <td>3.000000</td>\n",
       "      <td>0.000000</td>\n",
       "      <td>8.000000</td>\n",
       "      <td>3.000000</td>\n",
       "      <td>5.000000</td>\n",
       "      <td>2.000000</td>\n",
       "      <td>1.000000</td>\n",
       "      <td>2.000000</td>\n",
       "      <td>3.000000</td>\n",
       "      <td>1.0</td>\n",
       "    </tr>\n",
       "    <tr>\n",
       "      <th>75%</th>\n",
       "      <td>42.000000</td>\n",
       "      <td>1.000000</td>\n",
       "      <td>15.000000</td>\n",
       "      <td>4.000000</td>\n",
       "      <td>1494.000000</td>\n",
       "      <td>4.000000</td>\n",
       "      <td>3.000000</td>\n",
       "      <td>4.000000</td>\n",
       "      <td>7124.250000</td>\n",
       "      <td>4.000000</td>\n",
       "      <td>...</td>\n",
       "      <td>3.000000</td>\n",
       "      <td>1.000000</td>\n",
       "      <td>13.000000</td>\n",
       "      <td>3.000000</td>\n",
       "      <td>8.000000</td>\n",
       "      <td>7.000000</td>\n",
       "      <td>2.000000</td>\n",
       "      <td>7.000000</td>\n",
       "      <td>4.000000</td>\n",
       "      <td>1.0</td>\n",
       "    </tr>\n",
       "    <tr>\n",
       "      <th>max</th>\n",
       "      <td>60.000000</td>\n",
       "      <td>1.000000</td>\n",
       "      <td>29.000000</td>\n",
       "      <td>5.000000</td>\n",
       "      <td>2068.000000</td>\n",
       "      <td>4.000000</td>\n",
       "      <td>4.000000</td>\n",
       "      <td>4.000000</td>\n",
       "      <td>19999.000000</td>\n",
       "      <td>9.000000</td>\n",
       "      <td>...</td>\n",
       "      <td>4.000000</td>\n",
       "      <td>3.000000</td>\n",
       "      <td>38.000000</td>\n",
       "      <td>6.000000</td>\n",
       "      <td>37.000000</td>\n",
       "      <td>18.000000</td>\n",
       "      <td>15.000000</td>\n",
       "      <td>17.000000</td>\n",
       "      <td>5.000000</td>\n",
       "      <td>1.0</td>\n",
       "    </tr>\n",
       "  </tbody>\n",
       "</table>\n",
       "<p>8 rows × 21 columns</p>\n",
       "</div>"
      ],
      "text/plain": [
       "               Age    Attrition  DistanceFromHome    Education  \\\n",
       "count  1628.000000  1628.000000       1628.000000  1628.000000   \n",
       "mean     35.645577     0.482187          9.735258     2.884521   \n",
       "std       9.481794     0.499836          8.306546     1.020470   \n",
       "min      18.000000     0.000000          1.000000     1.000000   \n",
       "25%      29.000000     0.000000          2.000000     2.000000   \n",
       "50%      34.000000     0.000000          8.000000     3.000000   \n",
       "75%      42.000000     1.000000         15.000000     4.000000   \n",
       "max      60.000000     1.000000         29.000000     5.000000   \n",
       "\n",
       "       EmployeeNumber  EnvironmentSatisfaction  JobInvolvement  \\\n",
       "count     1628.000000              1628.000000     1628.000000   \n",
       "mean      1000.985872                 2.646192        2.650491   \n",
       "std        585.417694                 1.125283        0.736330   \n",
       "min          1.000000                 1.000000        1.000000   \n",
       "25%        509.250000                 2.000000        2.000000   \n",
       "50%        977.000000                 3.000000        3.000000   \n",
       "75%       1494.000000                 4.000000        3.000000   \n",
       "max       2068.000000                 4.000000        4.000000   \n",
       "\n",
       "       JobSatisfaction  MonthlyIncome  NumCompaniesWorked  ...  \\\n",
       "count      1628.000000    1628.000000         1628.000000  ...   \n",
       "mean          2.639435    5785.524570            2.761671  ...   \n",
       "std           1.096272    4339.293147            2.549995  ...   \n",
       "min           1.000000    1009.000000            0.000000  ...   \n",
       "25%           2.000000    2625.000000            1.000000  ...   \n",
       "50%           3.000000    4304.000000            2.000000  ...   \n",
       "75%           4.000000    7124.250000            4.000000  ...   \n",
       "max           4.000000   19999.000000            9.000000  ...   \n",
       "\n",
       "       PerformanceRating  StockOptionLevel  TotalWorkingYears  \\\n",
       "count        1628.000000       1628.000000        1628.000000   \n",
       "mean            3.155405          0.692260           9.949017   \n",
       "std             0.362402          0.864808           7.482936   \n",
       "min             3.000000          0.000000           0.000000   \n",
       "25%             3.000000          0.000000           5.000000   \n",
       "50%             3.000000          0.000000           8.000000   \n",
       "75%             3.000000          1.000000          13.000000   \n",
       "max             4.000000          3.000000          38.000000   \n",
       "\n",
       "       TrainingTimesLastYear  YearsAtCompany  YearsInCurrentRole  \\\n",
       "count            1628.000000     1628.000000         1628.000000   \n",
       "mean                2.752457        6.092752            3.614865   \n",
       "std                 1.288033        5.921168            3.481051   \n",
       "min                 0.000000        0.000000            0.000000   \n",
       "25%                 2.000000        2.000000            1.000000   \n",
       "50%                 3.000000        5.000000            2.000000   \n",
       "75%                 3.000000        8.000000            7.000000   \n",
       "max                 6.000000       37.000000           18.000000   \n",
       "\n",
       "       YearsSinceLastPromotion  YearsWithCurrManager  CommunicationSkill  \\\n",
       "count              1628.000000           1628.000000         1628.000000   \n",
       "mean                  2.049140              3.551597            3.135749   \n",
       "std                   3.138287              3.494369            1.408770   \n",
       "min                   0.000000              0.000000            1.000000   \n",
       "25%                   0.000000              0.000000            2.000000   \n",
       "50%                   1.000000              2.000000            3.000000   \n",
       "75%                   2.000000              7.000000            4.000000   \n",
       "max                  15.000000             17.000000            5.000000   \n",
       "\n",
       "       Behaviour  \n",
       "count     1628.0  \n",
       "mean         1.0  \n",
       "std          0.0  \n",
       "min          1.0  \n",
       "25%          1.0  \n",
       "50%          1.0  \n",
       "75%          1.0  \n",
       "max          1.0  \n",
       "\n",
       "[8 rows x 21 columns]"
      ]
     },
     "execution_count": 6,
     "metadata": {},
     "output_type": "execute_result"
    }
   ],
   "source": [
    "train_df.describe()"
   ]
  },
  {
   "cell_type": "code",
   "execution_count": null,
   "metadata": {},
   "outputs": [],
   "source": []
  },
  {
   "cell_type": "markdown",
   "execution_count": null,
   "metadata": {},
   "source": [
    "# **Data Wrangling**"
   ]
  },
  {
   "cell_type": "code",
   "execution_count": 7,
   "metadata": {},
   "outputs": [
    {
     "data": {
      "text/plain": [
       "Age                         int64\n",
       "Attrition                   int64\n",
       "BusinessTravel             object\n",
       "Department                 object\n",
       "DistanceFromHome            int64\n",
       "Education                   int64\n",
       "EducationField             object\n",
       "EmployeeNumber              int64\n",
       "EnvironmentSatisfaction     int64\n",
       "Gender                     object\n",
       "JobInvolvement              int64\n",
       "JobRole                    object\n",
       "JobSatisfaction             int64\n",
       "MaritalStatus              object\n",
       "MonthlyIncome               int64\n",
       "NumCompaniesWorked          int64\n",
       "OverTime                   object\n",
       "PercentSalaryHike           int64\n",
       "PerformanceRating           int64\n",
       "StockOptionLevel            int64\n",
       "TotalWorkingYears           int64\n",
       "TrainingTimesLastYear       int64\n",
       "YearsAtCompany              int64\n",
       "YearsInCurrentRole          int64\n",
       "YearsSinceLastPromotion     int64\n",
       "YearsWithCurrManager        int64\n",
       "CommunicationSkill          int64\n",
       "Behaviour                   int64\n",
       "dtype: object"
      ]
     },
     "execution_count": 7,
     "metadata": {},
     "output_type": "execute_result"
    }
   ],
   "source": [
    "train_df.dtypes"
   ]
  },
  {
   "cell_type": "markdown",
   "execution_count": null,
   "metadata": {},
   "source": [
    "Since we have object columns in the data and our ML algorithms dont work on object columns so converting all of them to integer."
   ]
  },
  {
   "cell_type": "code",
   "execution_count": 8,
   "metadata": {},
   "outputs": [],
   "source": [
    "list1 = train_df.select_dtypes(include = object).columns.tolist()\n",
    "train_dummy = pd.get_dummies(train_df,columns = list1,prefix = list1,drop_first = True)\n",
    "test_dummy = pd.get_dummies(test_df,columns = list1,prefix = list1,drop_first = True)\n",
    "#new_train="
   ]
  },
  {
   "cell_type": "code",
   "execution_count": 9,
   "metadata": {},
   "outputs": [
    {
     "data": {
      "text/plain": [
       "(1628, 42)"
      ]
     },
     "execution_count": 9,
     "metadata": {},
     "output_type": "execute_result"
    }
   ],
   "source": [
    "train_dummy.shape"
   ]
  },
  {
   "cell_type": "code",
   "execution_count": 10,
   "metadata": {},
   "outputs": [
    {
     "data": {
      "text/plain": [
       "Age                                  int64\n",
       "Attrition                            int64\n",
       "DistanceFromHome                     int64\n",
       "Education                            int64\n",
       "EmployeeNumber                       int64\n",
       "EnvironmentSatisfaction              int64\n",
       "JobInvolvement                       int64\n",
       "JobSatisfaction                      int64\n",
       "MonthlyIncome                        int64\n",
       "NumCompaniesWorked                   int64\n",
       "PercentSalaryHike                    int64\n",
       "PerformanceRating                    int64\n",
       "StockOptionLevel                     int64\n",
       "TotalWorkingYears                    int64\n",
       "TrainingTimesLastYear                int64\n",
       "YearsAtCompany                       int64\n",
       "YearsInCurrentRole                   int64\n",
       "YearsSinceLastPromotion              int64\n",
       "YearsWithCurrManager                 int64\n",
       "CommunicationSkill                   int64\n",
       "Behaviour                            int64\n",
       "BusinessTravel_Travel_Frequently     uint8\n",
       "BusinessTravel_Travel_Rarely         uint8\n",
       "Department_Research & Development    uint8\n",
       "Department_Sales                     uint8\n",
       "EducationField_Life Sciences         uint8\n",
       "EducationField_Marketing             uint8\n",
       "EducationField_Medical               uint8\n",
       "EducationField_Other                 uint8\n",
       "EducationField_Technical Degree      uint8\n",
       "Gender_Male                          uint8\n",
       "JobRole_Human Resources              uint8\n",
       "JobRole_Laboratory Technician        uint8\n",
       "JobRole_Manager                      uint8\n",
       "JobRole_Manufacturing Director       uint8\n",
       "JobRole_Research Director            uint8\n",
       "JobRole_Research Scientist           uint8\n",
       "JobRole_Sales Executive              uint8\n",
       "JobRole_Sales Representative         uint8\n",
       "MaritalStatus_Married                uint8\n",
       "MaritalStatus_Single                 uint8\n",
       "OverTime_Yes                         uint8\n",
       "dtype: object"
      ]
     },
     "execution_count": 10,
     "metadata": {},
     "output_type": "execute_result"
    }
   ],
   "source": [
    "train_dummy.dtypes"
   ]
  },
  {
   "cell_type": "code",
   "execution_count": 11,
   "metadata": {},
   "outputs": [
    {
     "data": {
      "text/plain": [
       "Age                                  0\n",
       "Attrition                            0\n",
       "DistanceFromHome                     0\n",
       "Education                            0\n",
       "EmployeeNumber                       0\n",
       "EnvironmentSatisfaction              0\n",
       "JobInvolvement                       0\n",
       "JobSatisfaction                      0\n",
       "MonthlyIncome                        0\n",
       "NumCompaniesWorked                   0\n",
       "PercentSalaryHike                    0\n",
       "PerformanceRating                    0\n",
       "StockOptionLevel                     0\n",
       "TotalWorkingYears                    0\n",
       "TrainingTimesLastYear                0\n",
       "YearsAtCompany                       0\n",
       "YearsInCurrentRole                   0\n",
       "YearsSinceLastPromotion              0\n",
       "YearsWithCurrManager                 0\n",
       "CommunicationSkill                   0\n",
       "Behaviour                            0\n",
       "BusinessTravel_Travel_Frequently     0\n",
       "BusinessTravel_Travel_Rarely         0\n",
       "Department_Research & Development    0\n",
       "Department_Sales                     0\n",
       "EducationField_Life Sciences         0\n",
       "EducationField_Marketing             0\n",
       "EducationField_Medical               0\n",
       "EducationField_Other                 0\n",
       "EducationField_Technical Degree      0\n",
       "Gender_Male                          0\n",
       "JobRole_Human Resources              0\n",
       "JobRole_Laboratory Technician        0\n",
       "JobRole_Manager                      0\n",
       "JobRole_Manufacturing Director       0\n",
       "JobRole_Research Director            0\n",
       "JobRole_Research Scientist           0\n",
       "JobRole_Sales Executive              0\n",
       "JobRole_Sales Representative         0\n",
       "MaritalStatus_Married                0\n",
       "MaritalStatus_Single                 0\n",
       "OverTime_Yes                         0\n",
       "dtype: int64"
      ]
     },
     "execution_count": 11,
     "metadata": {},
     "output_type": "execute_result"
    }
   ],
   "source": [
    "train_dummy.isnull().sum()"
   ]
  },
  {
   "cell_type": "markdown",
   "execution_count": null,
   "metadata": {},
   "source": [
    "Clearly enough we dont have any null values in the dataset.\n",
    "Further now, lets check for noise in the data."
   ]
  },
  {
   "cell_type": "code",
   "execution_count": 12,
   "metadata": {},
   "outputs": [],
   "source": [
    "import seaborn as sns\n",
    "import matplotlib.pyplot as plt"
   ]
  },
  {
   "cell_type": "code",
   "execution_count": 13,
   "metadata": {},
   "outputs": [
    {
     "data": {
      "text/plain": [
       "<matplotlib.axes._subplots.AxesSubplot at 0x7f54afb4da10>"
      ]
     },
     "execution_count": 13,
     "metadata": {},
     "output_type": "execute_result"
    },
    {
     "data": {
      "image/png": "[encoded data removed]",
      "text/plain": [
       "<Figure size 1440x1440 with 2 Axes>"
      ]
     },
     "metadata": {
      "needs_background": "light"
     },
     "output_type": "display_data"
    }
   ],
   "source": [
    "plt.figure(figsize = (20,20))\n",
    "sns.heatmap(train_df.corr(),annot = True,fmt ='.1g',cmap = 'coolwarm')"
   ]
  },
  {
   "cell_type": "markdown",
   "execution_count": null,
   "metadata": {},
   "source": []
  },
  {
   "cell_type": "markdown",
   "execution_count": null,
   "metadata": {},
   "source": [
    "From the above plot we can clearly observe that the features like Years in current role,years since last promotion ,years at the company etc.have good correlation numbers and hence are highly correlated."
   ]
  },
  {
   "cell_type": "code",
   "execution_count": 14,
   "metadata": {},
   "outputs": [
    {
     "data": {
      "text/plain": [
       "(1628, 7)"
      ]
     },
     "execution_count": 14,
     "metadata": {},
     "output_type": "execute_result"
    }
   ],
   "source": [
    "df_object = train_df[train_df.select_dtypes(object).columns]\n",
    "df_object.shape"
   ]
  },
  {
   "cell_type": "code",
   "execution_count": null,
   "metadata": {},
   "outputs": [],
   "source": []
  },
  {
   "cell_type": "code",
   "execution_count": 15,
   "metadata": {},
   "outputs": [
    {
     "data": {
      "image/png": "[encoded data removed]",
      "text/plain": [
       "<Figure size 1080x2160 with 14 Axes>"
      ]
     },
     "metadata": {
      "needs_background": "light"
     },
     "output_type": "display_data"
    }
   ],
   "source": [
    "fig, ax = plt.subplots(7,2,figsize = (15,30))\n",
    "for i in np.arange(7):\n",
    "    s = df_object.iloc[:,i]\n",
    "    sns.countplot(s, ax = ax[i,0], order = s.value_counts().index.tolist())\n",
    "    ax[i,0].set_title(df_object.columns[i]+' Training Dataset')\n",
    "    ax[i,0].tick_params(labelrotation=90)\n",
    "    sns.countplot(s, ax = ax[i,1], order = s.value_counts().index.tolist(), hue=Att)\n",
    "    ax[i,1].tick_params(labelrotation=90)\n",
    "    "
   ]
  },
  {
   "cell_type": "code",
   "execution_count": 16,
   "metadata": {},
   "outputs": [
    {
     "data": {
      "text/plain": [
       "(1628, 21)"
      ]
     },
     "execution_count": 16,
     "metadata": {},
     "output_type": "execute_result"
    }
   ],
   "source": [
    "df_int = train_df[train_df.select_dtypes(int).columns]\n",
    "df_int.shape"
   ]
  },
  {
   "cell_type": "markdown",
   "execution_count": null,
   "metadata": {},
   "source": [
    "Now we go through some columns and analyse if there is any noise present in the dataset."
   ]
  },
  {
   "cell_type": "code",
   "execution_count": 17,
   "metadata": {},
   "outputs": [
    {
     "data": {
      "text/plain": [
       "Age                          43\n",
       "Attrition                     2\n",
       "DistanceFromHome             29\n",
       "Education                     5\n",
       "EmployeeNumber             1000\n",
       "EnvironmentSatisfaction       4\n",
       "JobInvolvement                4\n",
       "JobSatisfaction               4\n",
       "MonthlyIncome               941\n",
       "NumCompaniesWorked           10\n",
       "PercentSalaryHike            15\n",
       "PerformanceRating             2\n",
       "StockOptionLevel              4\n",
       "TotalWorkingYears            39\n",
       "TrainingTimesLastYear         7\n",
       "YearsAtCompany               36\n",
       "YearsInCurrentRole           19\n",
       "YearsSinceLastPromotion      16\n",
       "YearsWithCurrManager         18\n",
       "CommunicationSkill            5\n",
       "Behaviour                     1\n",
       "dtype: int64"
      ]
     },
     "execution_count": 17,
     "metadata": {},
     "output_type": "execute_result"
    }
   ],
   "source": [
    "df_int.nunique()"
   ]
  },
  {
   "cell_type": "markdown",
   "execution_count": null,
   "metadata": {},
   "source": [
    "A few things really odd in this dataset are\n",
    "\n",
    "1.There are only 1000 unique employee numbers whereas the total number we have is 1628.\n",
    "\n",
    "2.The column performance rating has only 2 unique entries which is strange because usually the rating columns have atleast 4+ entries.\n",
    "\n",
    "3.The column Behavious has only 1 unique entry, this implies that is a useless column."
   ]
  },
  {
   "cell_type": "code",
   "execution_count": 18,
   "metadata": {},
   "outputs": [
    {
     "data": {
      "text/plain": [
       "(628, 0)"
      ]
     },
     "execution_count": 18,
     "metadata": {},
     "output_type": "execute_result"
    }
   ],
   "source": [
    "train_df.duplicated().sum(),test_df.duplicated().sum()"
   ]
  },
  {
   "cell_type": "markdown",
   "execution_count": null,
   "metadata": {},
   "source": [
    "Clearly we observe that there are 628 duplicated columns in the dataset."
   ]
  },
  {
   "cell_type": "code",
   "execution_count": 19,
   "metadata": {},
   "outputs": [],
   "source": [
    "train_df.drop_duplicates(inplace = True)"
   ]
  },
  {
   "cell_type": "code",
   "execution_count": 20,
   "metadata": {},
   "outputs": [
    {
     "data": {
      "text/plain": [
       "<matplotlib.axes._subplots.AxesSubplot at 0x7f54ac60dfd0>"
      ]
     },
     "execution_count": 20,
     "metadata": {},
     "output_type": "execute_result"
    },
    {
     "data": {
      "image/png": "[encoded data removed]",
      "text/plain": [
       "<Figure size 432x288 with 1 Axes>"
      ]
     },
     "metadata": {
      "needs_background": "light"
     },
     "output_type": "display_data"
    }
   ],
   "source": [
    "sns.countplot(x = 'PerformanceRating',hue = 'Attrition',data = train_df)"
   ]
  },
  {
   "cell_type": "code",
   "execution_count": 21,
   "metadata": {},
   "outputs": [
    {
     "data": {
      "text/plain": [
       "count    1000.000000\n",
       "mean        3.153000\n",
       "std         0.360168\n",
       "min         3.000000\n",
       "25%         3.000000\n",
       "50%         3.000000\n",
       "75%         3.000000\n",
       "max         4.000000\n",
       "Name: PerformanceRating, dtype: float64"
      ]
     },
     "execution_count": 21,
     "metadata": {},
     "output_type": "execute_result"
    }
   ],
   "source": [
    "train_df.PerformanceRating.describe()"
   ]
  },
  {
   "cell_type": "code",
   "execution_count": 22,
   "metadata": {},
   "outputs": [
    {
     "data": {
      "text/plain": [
       "3    847\n",
       "4    153\n",
       "Name: PerformanceRating, dtype: int64"
      ]
     },
     "execution_count": 22,
     "metadata": {},
     "output_type": "execute_result"
    }
   ],
   "source": [
    "train_df.PerformanceRating.value_counts()"
   ]
  },
  {
   "cell_type": "markdown",
   "execution_count": null,
   "metadata": {},
   "source": [
    "The PerformanceRating column is clearly just noise in the data\n",
    "\n",
    "Hence removing both PerformanceRating and behaviour columns."
   ]
  },
  {
   "cell_type": "code",
   "execution_count": 23,
   "metadata": {},
   "outputs": [],
   "source": [
    "train_df.drop(['Behaviour','PerformanceRating'],axis = 1,inplace = True)\n",
    "test_df.drop(['Behaviour','PerformanceRating'],axis = 1,inplace = True)"
   ]
  },
  {
   "cell_type": "code",
   "execution_count": 24,
   "metadata": {},
   "outputs": [
    {
     "data": {
      "text/plain": [
       "Index(['Age', 'Attrition', 'BusinessTravel', 'Department', 'DistanceFromHome',\n",
       "       'Education', 'EducationField', 'EmployeeNumber',\n",
       "       'EnvironmentSatisfaction', 'Gender', 'JobInvolvement', 'JobRole',\n",
       "       'JobSatisfaction', 'MaritalStatus', 'MonthlyIncome',\n",
       "       'NumCompaniesWorked', 'OverTime', 'PercentSalaryHike',\n",
       "       'StockOptionLevel', 'TotalWorkingYears', 'TrainingTimesLastYear',\n",
       "       'YearsAtCompany', 'YearsInCurrentRole', 'YearsSinceLastPromotion',\n",
       "       'YearsWithCurrManager', 'CommunicationSkill'],\n",
       "      dtype='object')"
      ]
     },
     "execution_count": 24,
     "metadata": {},
     "output_type": "execute_result"
    }
   ],
   "source": [
    "train_df.columns"
   ]
  },
  {
   "cell_type": "code",
   "execution_count": 25,
   "metadata": {},
   "outputs": [],
   "source": [
    "import matplotlib.pyplot as plt\n",
    "import seaborn as sns"
   ]
  },
  {
   "cell_type": "code",
   "execution_count": 26,
   "metadata": {},
   "outputs": [
    {
     "data": {
      "text/plain": [
       "array([30, 36, 55, 39, 37, 31, 32, 33, 35, 21, 60, 29, 40, 34, 41, 38, 45,\n",
       "       44, 26, 54, 23, 50, 46, 42, 43, 28, 25, 47, 51, 48, 49, 27, 59, 58,\n",
       "       53, 57, 52, 24, 20, 18, 19, 56, 22])"
      ]
     },
     "execution_count": 26,
     "metadata": {},
     "output_type": "execute_result"
    }
   ],
   "source": [
    "train_df.Age.unique()"
   ]
  },
  {
   "cell_type": "code",
   "execution_count": 27,
   "metadata": {},
   "outputs": [],
   "source": [
    "train_df['age_bins'] = pd.cut(x=train_df['Age'], bins=[18,20,29,39,49,60],labels=['Teens','20s','30s','40s','50s'])\n",
    "test_df['age_bins'] = pd.cut(x=test_df['Age'], bins=[18,20,29,39,49,60],labels=['Teens','20s','30s','40s','50s'])\n"
   ]
  },
  {
   "cell_type": "code",
   "execution_count": 28,
   "metadata": {},
   "outputs": [
    {
     "data": {
      "text/plain": [
       "dict_keys(['Teens', '20s', '30s', '40s', '50s'])"
      ]
     },
     "execution_count": 28,
     "metadata": {},
     "output_type": "execute_result"
    }
   ],
   "source": [
    "age = train_df.groupby('age_bins')\n",
    "age.groups.keys()"
   ]
  },
  {
   "cell_type": "code",
   "execution_count": 29,
   "metadata": {},
   "outputs": [
    {
     "data": {
      "text/html": [
       "<div>\n",
       "<style scoped>\n",
       "    .dataframe tbody tr th:only-of-type {\n",
       "        vertical-align: middle;\n",
       "    }\n",
       "\n",
       "    .dataframe tbody tr th {\n",
       "        vertical-align: top;\n",
       "    }\n",
       "\n",
       "    .dataframe thead th {\n",
       "        text-align: right;\n",
       "    }\n",
       "</style>\n",
       "<table border=\"1\" class=\"dataframe\">\n",
       "  <thead>\n",
       "    <tr style=\"text-align: right;\">\n",
       "      <th></th>\n",
       "      <th>Age</th>\n",
       "      <th>Attrition</th>\n",
       "      <th>BusinessTravel</th>\n",
       "      <th>Department</th>\n",
       "      <th>DistanceFromHome</th>\n",
       "      <th>Education</th>\n",
       "      <th>EducationField</th>\n",
       "      <th>EmployeeNumber</th>\n",
       "      <th>EnvironmentSatisfaction</th>\n",
       "      <th>Gender</th>\n",
       "      <th>...</th>\n",
       "      <th>PercentSalaryHike</th>\n",
       "      <th>StockOptionLevel</th>\n",
       "      <th>TotalWorkingYears</th>\n",
       "      <th>TrainingTimesLastYear</th>\n",
       "      <th>YearsAtCompany</th>\n",
       "      <th>YearsInCurrentRole</th>\n",
       "      <th>YearsSinceLastPromotion</th>\n",
       "      <th>YearsWithCurrManager</th>\n",
       "      <th>CommunicationSkill</th>\n",
       "      <th>age_bins</th>\n",
       "    </tr>\n",
       "    <tr>\n",
       "      <th>Id</th>\n",
       "      <th></th>\n",
       "      <th></th>\n",
       "      <th></th>\n",
       "      <th></th>\n",
       "      <th></th>\n",
       "      <th></th>\n",
       "      <th></th>\n",
       "      <th></th>\n",
       "      <th></th>\n",
       "      <th></th>\n",
       "      <th></th>\n",
       "      <th></th>\n",
       "      <th></th>\n",
       "      <th></th>\n",
       "      <th></th>\n",
       "      <th></th>\n",
       "      <th></th>\n",
       "      <th></th>\n",
       "      <th></th>\n",
       "      <th></th>\n",
       "      <th></th>\n",
       "    </tr>\n",
       "  </thead>\n",
       "  <tbody>\n",
       "    <tr>\n",
       "      <th>1</th>\n",
       "      <td>30</td>\n",
       "      <td>0</td>\n",
       "      <td>Non-Travel</td>\n",
       "      <td>Research &amp; Development</td>\n",
       "      <td>2</td>\n",
       "      <td>3</td>\n",
       "      <td>Medical</td>\n",
       "      <td>571</td>\n",
       "      <td>3</td>\n",
       "      <td>Female</td>\n",
       "      <td>...</td>\n",
       "      <td>14</td>\n",
       "      <td>0</td>\n",
       "      <td>12</td>\n",
       "      <td>2</td>\n",
       "      <td>11</td>\n",
       "      <td>7</td>\n",
       "      <td>6</td>\n",
       "      <td>7</td>\n",
       "      <td>4</td>\n",
       "      <td>30s</td>\n",
       "    </tr>\n",
       "    <tr>\n",
       "      <th>2</th>\n",
       "      <td>36</td>\n",
       "      <td>0</td>\n",
       "      <td>Travel_Rarely</td>\n",
       "      <td>Research &amp; Development</td>\n",
       "      <td>12</td>\n",
       "      <td>4</td>\n",
       "      <td>Life Sciences</td>\n",
       "      <td>1614</td>\n",
       "      <td>3</td>\n",
       "      <td>Female</td>\n",
       "      <td>...</td>\n",
       "      <td>12</td>\n",
       "      <td>2</td>\n",
       "      <td>7</td>\n",
       "      <td>2</td>\n",
       "      <td>3</td>\n",
       "      <td>2</td>\n",
       "      <td>1</td>\n",
       "      <td>1</td>\n",
       "      <td>2</td>\n",
       "      <td>30s</td>\n",
       "    </tr>\n",
       "    <tr>\n",
       "      <th>3</th>\n",
       "      <td>55</td>\n",
       "      <td>1</td>\n",
       "      <td>Travel_Rarely</td>\n",
       "      <td>Sales</td>\n",
       "      <td>2</td>\n",
       "      <td>1</td>\n",
       "      <td>Medical</td>\n",
       "      <td>842</td>\n",
       "      <td>3</td>\n",
       "      <td>Male</td>\n",
       "      <td>...</td>\n",
       "      <td>16</td>\n",
       "      <td>0</td>\n",
       "      <td>12</td>\n",
       "      <td>3</td>\n",
       "      <td>9</td>\n",
       "      <td>7</td>\n",
       "      <td>7</td>\n",
       "      <td>3</td>\n",
       "      <td>5</td>\n",
       "      <td>50s</td>\n",
       "    </tr>\n",
       "    <tr>\n",
       "      <th>4</th>\n",
       "      <td>39</td>\n",
       "      <td>0</td>\n",
       "      <td>Travel_Rarely</td>\n",
       "      <td>Research &amp; Development</td>\n",
       "      <td>24</td>\n",
       "      <td>1</td>\n",
       "      <td>Life Sciences</td>\n",
       "      <td>2014</td>\n",
       "      <td>1</td>\n",
       "      <td>Male</td>\n",
       "      <td>...</td>\n",
       "      <td>13</td>\n",
       "      <td>0</td>\n",
       "      <td>18</td>\n",
       "      <td>2</td>\n",
       "      <td>7</td>\n",
       "      <td>7</td>\n",
       "      <td>1</td>\n",
       "      <td>7</td>\n",
       "      <td>4</td>\n",
       "      <td>30s</td>\n",
       "    </tr>\n",
       "    <tr>\n",
       "      <th>5</th>\n",
       "      <td>37</td>\n",
       "      <td>0</td>\n",
       "      <td>Travel_Rarely</td>\n",
       "      <td>Research &amp; Development</td>\n",
       "      <td>3</td>\n",
       "      <td>3</td>\n",
       "      <td>Other</td>\n",
       "      <td>689</td>\n",
       "      <td>3</td>\n",
       "      <td>Male</td>\n",
       "      <td>...</td>\n",
       "      <td>15</td>\n",
       "      <td>1</td>\n",
       "      <td>10</td>\n",
       "      <td>2</td>\n",
       "      <td>10</td>\n",
       "      <td>7</td>\n",
       "      <td>7</td>\n",
       "      <td>8</td>\n",
       "      <td>1</td>\n",
       "      <td>30s</td>\n",
       "    </tr>\n",
       "  </tbody>\n",
       "</table>\n",
       "<p>5 rows × 27 columns</p>\n",
       "</div>"
      ],
      "text/plain": [
       "    Age  Attrition BusinessTravel              Department  DistanceFromHome  \\\n",
       "Id                                                                            \n",
       "1    30          0     Non-Travel  Research & Development                 2   \n",
       "2    36          0  Travel_Rarely  Research & Development                12   \n",
       "3    55          1  Travel_Rarely                   Sales                 2   \n",
       "4    39          0  Travel_Rarely  Research & Development                24   \n",
       "5    37          0  Travel_Rarely  Research & Development                 3   \n",
       "\n",
       "    Education EducationField  EmployeeNumber  EnvironmentSatisfaction  Gender  \\\n",
       "Id                                                                              \n",
       "1           3        Medical             571                        3  Female   \n",
       "2           4  Life Sciences            1614                        3  Female   \n",
       "3           1        Medical             842                        3    Male   \n",
       "4           1  Life Sciences            2014                        1    Male   \n",
       "5           3          Other             689                        3    Male   \n",
       "\n",
       "    ...  PercentSalaryHike StockOptionLevel  TotalWorkingYears  \\\n",
       "Id  ...                                                          \n",
       "1   ...                 14                0                 12   \n",
       "2   ...                 12                2                  7   \n",
       "3   ...                 16                0                 12   \n",
       "4   ...                 13                0                 18   \n",
       "5   ...                 15                1                 10   \n",
       "\n",
       "   TrainingTimesLastYear  YearsAtCompany  YearsInCurrentRole  \\\n",
       "Id                                                             \n",
       "1                      2              11                   7   \n",
       "2                      2               3                   2   \n",
       "3                      3               9                   7   \n",
       "4                      2               7                   7   \n",
       "5                      2              10                   7   \n",
       "\n",
       "   YearsSinceLastPromotion  YearsWithCurrManager  CommunicationSkill  age_bins  \n",
       "Id                                                                              \n",
       "1                        6                     7                   4       30s  \n",
       "2                        1                     1                   2       30s  \n",
       "3                        7                     3                   5       50s  \n",
       "4                        1                     7                   4       30s  \n",
       "5                        7                     8                   1       30s  \n",
       "\n",
       "[5 rows x 27 columns]"
      ]
     },
     "execution_count": 29,
     "metadata": {},
     "output_type": "execute_result"
    }
   ],
   "source": [
    "train_df.head()"
   ]
  },
  {
   "cell_type": "code",
   "execution_count": 30,
   "metadata": {},
   "outputs": [
    {
     "data": {
      "text/plain": [
       "<matplotlib.axes._subplots.AxesSubplot at 0x7f54ac5651d0>"
      ]
     },
     "execution_count": 30,
     "metadata": {},
     "output_type": "execute_result"
    },
    {
     "data": {
      "image/png": "[encoded data removed]",
      "text/plain": [
       "<Figure size 432x288 with 1 Axes>"
      ]
     },
     "metadata": {
      "needs_background": "light"
     },
     "output_type": "display_data"
    }
   ],
   "source": [
    "sns.countplot(x = 'age_bins',hue = 'Attrition',data = train_df)"
   ]
  },
  {
   "cell_type": "raw",
   "execution_count": null,
   "metadata": {},
   "source": []
  },
  {
   "cell_type": "code",
   "execution_count": 31,
   "metadata": {},
   "outputs": [
    {
     "data": {
      "text/plain": [
       "array([11,  3,  9,  7, 10,  5,  1, 18,  6,  2, 15, 12,  8, 13, 27,  4,  0,\n",
       "       16, 14, 19, 20, 22, 21, 26, 17, 24, 36, 29, 33, 34, 37, 25, 23, 31,\n",
       "       32, 30])"
      ]
     },
     "execution_count": 31,
     "metadata": {},
     "output_type": "execute_result"
    }
   ],
   "source": [
    "train_df.YearsAtCompany.unique()"
   ]
  },
  {
   "cell_type": "code",
   "execution_count": 32,
   "metadata": {},
   "outputs": [],
   "source": [
    "train_df['years_in_company'] = pd.cut(x=train_df['YearsAtCompany'], bins=[0,5,10,15,20,25,30,37],labels=['0-5','5-10','10-15','15-20','20-25','25-30','30-35'])\n",
    "test_df['years_in_company'] = pd.cut(x=test_df['YearsAtCompany'], bins=[0,5,10,15,20,25,30,37],labels=['0-5','5-10','10-15','15-20','20-25','25-30','30-35'])"
   ]
  },
  {
   "cell_type": "code",
   "execution_count": 33,
   "metadata": {},
   "outputs": [
    {
     "data": {
      "text/plain": [
       "<matplotlib.axes._subplots.AxesSubplot at 0x7f54ac4fe710>"
      ]
     },
     "execution_count": 33,
     "metadata": {},
     "output_type": "execute_result"
    },
    {
     "data": {
      "image/png": "[encoded data removed]",
      "text/plain": [
       "<Figure size 432x288 with 1 Axes>"
      ]
     },
     "metadata": {
      "needs_background": "light"
     },
     "output_type": "display_data"
    }
   ],
   "source": [
    "sns.countplot(x = 'years_in_company',hue = 'Attrition',data = train_df)"
   ]
  },
  {
   "cell_type": "code",
   "execution_count": 34,
   "metadata": {},
   "outputs": [
    {
     "data": {
      "text/plain": [
       "array([12,  7, 18, 10, 13,  4,  8,  5,  1, 22,  3, 16, 17,  6,  9, 11, 23,\n",
       "       15, 14, 29, 32,  2, 20, 30, 21, 37, 33, 27, 26, 24, 19, 28,  0, 25,\n",
       "       31, 36, 35, 34, 38])"
      ]
     },
     "execution_count": 34,
     "metadata": {},
     "output_type": "execute_result"
    }
   ],
   "source": [
    "train_df.TotalWorkingYears.unique()"
   ]
  },
  {
   "cell_type": "code",
   "execution_count": 35,
   "metadata": {},
   "outputs": [
    {
     "data": {
      "text/plain": [
       "<matplotlib.axes._subplots.AxesSubplot at 0x7f54b59bf0d0>"
      ]
     },
     "execution_count": 35,
     "metadata": {},
     "output_type": "execute_result"
    },
    {
     "data": {
      "image/png": "[encoded data removed]",
      "text/plain": [
       "<Figure size 432x288 with 1 Axes>"
      ]
     },
     "metadata": {
      "needs_background": "light"
     },
     "output_type": "display_data"
    }
   ],
   "source": [
    "train_df['years_in_working'] = pd.cut(x=train_df['TotalWorkingYears'], bins=[0,5,10,15,20,25,30,39],labels=['0-5','5-10','10-15','15-20','20-25','25-30','30-35'])\n",
    "test_df['years_in_working'] = pd.cut(x=test_df['TotalWorkingYears'], bins=[0,5,10,15,20,25,30,39],labels=['0-5','5-10','10-15','15-20','20-25','25-30','30-35'])\n",
    "sns.countplot(x = 'years_in_working',hue = 'Attrition',data = train_df)\n",
    "#TotalWorkingYears',\n",
    "#       'TrainingTimesLastYear', 'YearsAtCompany', 'YearsInCurrentRole',"
   ]
  },
  {
   "cell_type": "code",
   "execution_count": 36,
   "metadata": {},
   "outputs": [
    {
     "data": {
      "text/plain": [
       "((1000, 29),\n",
       " Index(['Age', 'BusinessTravel', 'Department', 'DistanceFromHome', 'Education',\n",
       "        'EducationField', 'EmployeeNumber', 'EnvironmentSatisfaction', 'Gender',\n",
       "        'JobInvolvement', 'JobRole', 'JobSatisfaction', 'MaritalStatus',\n",
       "        'MonthlyIncome', 'NumCompaniesWorked', 'OverTime', 'PercentSalaryHike',\n",
       "        'StockOptionLevel', 'TotalWorkingYears', 'TrainingTimesLastYear',\n",
       "        'YearsAtCompany', 'YearsInCurrentRole', 'YearsSinceLastPromotion',\n",
       "        'YearsWithCurrManager', 'CommunicationSkill', 'age_bins',\n",
       "        'years_in_company', 'years_in_working'],\n",
       "       dtype='object'))"
      ]
     },
     "execution_count": 36,
     "metadata": {},
     "output_type": "execute_result"
    }
   ],
   "source": [
    "train_df.shape,test_df.columns"
   ]
  },
  {
   "cell_type": "code",
   "execution_count": 37,
   "metadata": {},
   "outputs": [
    {
     "data": {
      "text/plain": [
       "<matplotlib.collections.PathCollection at 0x7f54aa15f850>"
      ]
     },
     "execution_count": 37,
     "metadata": {},
     "output_type": "execute_result"
    },
    {
     "data": {
      "image/png": "[encoded data removed]",
      "text/plain": [
       "<Figure size 432x288 with 1 Axes>"
      ]
     },
     "metadata": {
      "needs_background": "light"
     },
     "output_type": "display_data"
    }
   ],
   "source": [
    "plt.scatter(x= train_df.YearsAtCompany,y = train_df.MonthlyIncome)"
   ]
  },
  {
   "cell_type": "markdown",
   "execution_count": null,
   "metadata": {},
   "source": [
    "# **Trying different models**"
   ]
  },
  {
   "cell_type": "markdown",
   "execution_count": null,
   "metadata": {},
   "source": [
    "# ** By one hot encoding **"
   ]
  },
  {
   "cell_type": "code",
   "execution_count": 38,
   "metadata": {},
   "outputs": [
    {
     "data": {
      "text/plain": [
       "Index(['Age', 'Attrition', 'BusinessTravel', 'Department', 'DistanceFromHome',\n",
       "       'Education', 'EducationField', 'EmployeeNumber',\n",
       "       'EnvironmentSatisfaction', 'Gender', 'JobInvolvement', 'JobRole',\n",
       "       'JobSatisfaction', 'MaritalStatus', 'MonthlyIncome',\n",
       "       'NumCompaniesWorked', 'OverTime', 'PercentSalaryHike',\n",
       "       'StockOptionLevel', 'TotalWorkingYears', 'TrainingTimesLastYear',\n",
       "       'YearsAtCompany', 'YearsInCurrentRole', 'YearsSinceLastPromotion',\n",
       "       'YearsWithCurrManager', 'CommunicationSkill', 'age_bins',\n",
       "       'years_in_company', 'years_in_working'],\n",
       "      dtype='object')"
      ]
     },
     "execution_count": 38,
     "metadata": {},
     "output_type": "execute_result"
    }
   ],
   "source": [
    "train_df.columns"
   ]
  },
  {
   "cell_type": "code",
   "execution_count": 39,
   "metadata": {},
   "outputs": [
    {
     "data": {
      "text/plain": [
       "Age                           int64\n",
       "Attrition                     int64\n",
       "BusinessTravel               object\n",
       "Department                   object\n",
       "DistanceFromHome              int64\n",
       "Education                     int64\n",
       "EducationField               object\n",
       "EmployeeNumber                int64\n",
       "EnvironmentSatisfaction       int64\n",
       "Gender                       object\n",
       "JobInvolvement                int64\n",
       "JobRole                      object\n",
       "JobSatisfaction               int64\n",
       "MaritalStatus                object\n",
       "MonthlyIncome                 int64\n",
       "NumCompaniesWorked            int64\n",
       "OverTime                     object\n",
       "PercentSalaryHike             int64\n",
       "StockOptionLevel              int64\n",
       "TotalWorkingYears             int64\n",
       "TrainingTimesLastYear         int64\n",
       "YearsAtCompany                int64\n",
       "YearsInCurrentRole            int64\n",
       "YearsSinceLastPromotion       int64\n",
       "YearsWithCurrManager          int64\n",
       "CommunicationSkill            int64\n",
       "age_bins                   category\n",
       "years_in_company           category\n",
       "years_in_working           category\n",
       "dtype: object"
      ]
     },
     "execution_count": 39,
     "metadata": {},
     "output_type": "execute_result"
    }
   ],
   "source": [
    "train_df.dtypes"
   ]
  },
  {
   "cell_type": "code",
   "execution_count": 40,
   "metadata": {},
   "outputs": [],
   "source": [
    "#now since we already have bins for 3 categories lets remove them\n",
    "new_train = train_df.drop(['Age','YearsAtCompany','TotalWorkingYears'],axis =1,inplace = True)\n",
    "new_test = test_df.drop(['Age','YearsAtCompany','TotalWorkingYears'],axis =1,inplace = True)"
   ]
  },
  {
   "cell_type": "code",
   "execution_count": 41,
   "metadata": {},
   "outputs": [],
   "source": [
    "#new_train.dtypes\n",
    "#new_train = train_df"
   ]
  },
  {
   "cell_type": "code",
   "execution_count": null,
   "metadata": {},
   "outputs": [],
   "source": []
  },
  {
   "cell_type": "code",
   "execution_count": null,
   "metadata": {},
   "outputs": [],
   "source": []
  },
  {
   "cell_type": "code",
   "execution_count": 42,
   "metadata": {},
   "outputs": [],
   "source": [
    "from sklearn.model_selection import train_test_split,cross_val_score\n"
   ]
  },
  {
   "cell_type": "code",
   "execution_count": 43,
   "metadata": {},
   "outputs": [],
   "source": [
    "train_df.dtypes\n",
    "list1 = train_df.select_dtypes(include = object).columns.tolist()\n",
    "train_dummy1 = pd.get_dummies(train_df,columns = list1,prefix = list1,drop_first = True)\n",
    "list2 = train_dummy1.select_dtypes(include = 'category').columns.tolist()\n",
    "train_dummy2 = pd.get_dummies(train_dummy1,columns = list2,prefix = list2,drop_first = True)\n",
    "list3 = test_df.select_dtypes(include = object).columns.tolist()\n",
    "test_dummy1 = pd.get_dummies(test_df,columns = list3,prefix = list3,drop_first = True)\n",
    "list4 = test_dummy1.select_dtypes(include = 'category').columns.tolist()\n",
    "test_dummy2 = pd.get_dummies(test_dummy1,columns = list4,prefix = list4,drop_first = True)"
   ]
  },
  {
   "cell_type": "code",
   "execution_count": 44,
   "metadata": {},
   "outputs": [],
   "source": [
    "Y = train_dummy2.Attrition\n",
    "X = train_dummy2.drop(['Attrition'],axis = 1)\n",
    "X_train,X_test,Y_train,Y_test = train_test_split(X,Y,test_size = .2)"
   ]
  },
  {
   "cell_type": "code",
   "execution_count": 45,
   "metadata": {},
   "outputs": [
    {
     "data": {
      "text/plain": [
       "((1000, 53), (470, 52))"
      ]
     },
     "execution_count": 45,
     "metadata": {},
     "output_type": "execute_result"
    }
   ],
   "source": [
    "train_dummy2.shape,test_dummy2.shape"
   ]
  },
  {
   "cell_type": "code",
   "execution_count": 46,
   "metadata": {},
   "outputs": [
    {
     "data": {
      "text/plain": [
       "Attrition                            int64\n",
       "DistanceFromHome                     int64\n",
       "Education                            int64\n",
       "EmployeeNumber                       int64\n",
       "EnvironmentSatisfaction              int64\n",
       "JobInvolvement                       int64\n",
       "JobSatisfaction                      int64\n",
       "MonthlyIncome                        int64\n",
       "NumCompaniesWorked                   int64\n",
       "PercentSalaryHike                    int64\n",
       "StockOptionLevel                     int64\n",
       "TrainingTimesLastYear                int64\n",
       "YearsInCurrentRole                   int64\n",
       "YearsSinceLastPromotion              int64\n",
       "YearsWithCurrManager                 int64\n",
       "CommunicationSkill                   int64\n",
       "BusinessTravel_Travel_Frequently     uint8\n",
       "BusinessTravel_Travel_Rarely         uint8\n",
       "Department_Research & Development    uint8\n",
       "Department_Sales                     uint8\n",
       "EducationField_Life Sciences         uint8\n",
       "EducationField_Marketing             uint8\n",
       "EducationField_Medical               uint8\n",
       "EducationField_Other                 uint8\n",
       "EducationField_Technical Degree      uint8\n",
       "Gender_Male                          uint8\n",
       "JobRole_Human Resources              uint8\n",
       "JobRole_Laboratory Technician        uint8\n",
       "JobRole_Manager                      uint8\n",
       "JobRole_Manufacturing Director       uint8\n",
       "JobRole_Research Director            uint8\n",
       "JobRole_Research Scientist           uint8\n",
       "JobRole_Sales Executive              uint8\n",
       "JobRole_Sales Representative         uint8\n",
       "MaritalStatus_Married                uint8\n",
       "MaritalStatus_Single                 uint8\n",
       "OverTime_Yes                         uint8\n",
       "age_bins_20s                         uint8\n",
       "age_bins_30s                         uint8\n",
       "age_bins_40s                         uint8\n",
       "age_bins_50s                         uint8\n",
       "years_in_company_5-10                uint8\n",
       "years_in_company_10-15               uint8\n",
       "years_in_company_15-20               uint8\n",
       "years_in_company_20-25               uint8\n",
       "years_in_company_25-30               uint8\n",
       "years_in_company_30-35               uint8\n",
       "years_in_working_5-10                uint8\n",
       "years_in_working_10-15               uint8\n",
       "years_in_working_15-20               uint8\n",
       "years_in_working_20-25               uint8\n",
       "years_in_working_25-30               uint8\n",
       "years_in_working_30-35               uint8\n",
       "dtype: object"
      ]
     },
     "execution_count": 46,
     "metadata": {},
     "output_type": "execute_result"
    }
   ],
   "source": [
    "train_dummy2.dtypes"
   ]
  },
  {
   "cell_type": "code",
   "execution_count": 47,
   "metadata": {},
   "outputs": [
    {
     "ename": "NameError",
     "evalue": "name 'x_train' is not defined",
     "output_type": "error",
     "traceback": [
      "\u001b[0;31m---------------------------------------------------------------------------\u001b[0m",
      "\u001b[0;31mNameError\u001b[0m                                 Traceback (most recent call last)",
      "\u001b[0;32m<ipython-input-47-1c2582945f16>\u001b[0m in \u001b[0;36m<module>\u001b[0;34m\u001b[0m\n\u001b[1;32m      1\u001b[0m \u001b[0;32mfrom\u001b[0m \u001b[0msklearn\u001b[0m\u001b[0;34m.\u001b[0m\u001b[0mensemble\u001b[0m \u001b[0;32mimport\u001b[0m \u001b[0mRandomForestClassifier\u001b[0m\u001b[0;34m\u001b[0m\u001b[0;34m\u001b[0m\u001b[0m\n\u001b[1;32m      2\u001b[0m \u001b[0monemodel1\u001b[0m \u001b[0;34m=\u001b[0m \u001b[0mRandomForestClassifier\u001b[0m\u001b[0;34m(\u001b[0m\u001b[0mn_estimators\u001b[0m\u001b[0;34m=\u001b[0m\u001b[0;36m400\u001b[0m\u001b[0;34m,\u001b[0m\u001b[0mn_jobs\u001b[0m \u001b[0;34m=\u001b[0m \u001b[0;34m-\u001b[0m\u001b[0;36m1\u001b[0m\u001b[0;34m,\u001b[0m\u001b[0mmin_samples_leaf\u001b[0m\u001b[0;34m=\u001b[0m\u001b[0;36m10\u001b[0m\u001b[0;34m)\u001b[0m\u001b[0;34m\u001b[0m\u001b[0;34m\u001b[0m\u001b[0m\n\u001b[0;32m----> 3\u001b[0;31m \u001b[0monemodel1\u001b[0m\u001b[0;34m.\u001b[0m\u001b[0mfit\u001b[0m\u001b[0;34m(\u001b[0m\u001b[0mx_train\u001b[0m\u001b[0;34m,\u001b[0m\u001b[0my_train\u001b[0m\u001b[0;34m)\u001b[0m\u001b[0;34m\u001b[0m\u001b[0;34m\u001b[0m\u001b[0m\n\u001b[0m",
      "\u001b[0;31mNameError\u001b[0m: name 'x_train' is not defined"
     ]
    }
   ],
   "source": [
    "from sklearn.ensemble import RandomForestClassifier\n",
    "onemodel1 = RandomForestClassifier(n_estimators=400,n_jobs = -1,min_samples_leaf=10)\n",
    "onemodel1.fit(x_train,y_train)"
   ]
  },
  {
   "cell_type": "code",
   "execution_count": 48,
   "metadata": {},
   "outputs": [
    {
     "ename": "NameError",
     "evalue": "name 'x_test' is not defined",
     "output_type": "error",
     "traceback": [
      "\u001b[0;31m---------------------------------------------------------------------------\u001b[0m",
      "\u001b[0;31mNameError\u001b[0m                                 Traceback (most recent call last)",
      "\u001b[0;32m<ipython-input-48-2da6cb030fa1>\u001b[0m in \u001b[0;36m<module>\u001b[0;34m\u001b[0m\n\u001b[0;32m----> 1\u001b[0;31m \u001b[0monemodel1\u001b[0m\u001b[0;34m.\u001b[0m\u001b[0mscore\u001b[0m\u001b[0;34m(\u001b[0m\u001b[0mx_test\u001b[0m\u001b[0;34m,\u001b[0m\u001b[0my_test\u001b[0m\u001b[0;34m)\u001b[0m\u001b[0;34m\u001b[0m\u001b[0;34m\u001b[0m\u001b[0m\n\u001b[0m",
      "\u001b[0;31mNameError\u001b[0m: name 'x_test' is not defined"
     ]
    }
   ],
   "source": [
    "onemodel1.score(x_test,y_test)"
   ]
  },
  {
   "cell_type": "code",
   "execution_count": 49,
   "metadata": {},
   "outputs": [
    {
     "ename": "NameError",
     "evalue": "name 'x_train' is not defined",
     "output_type": "error",
     "traceback": [
      "\u001b[0;31m---------------------------------------------------------------------------\u001b[0m",
      "\u001b[0;31mNameError\u001b[0m                                 Traceback (most recent call last)",
      "\u001b[0;32m<ipython-input-49-7d4a7ed00744>\u001b[0m in \u001b[0;36m<module>\u001b[0;34m\u001b[0m\n\u001b[0;32m----> 1\u001b[0;31m \u001b[0mcross_val_score\u001b[0m\u001b[0;34m(\u001b[0m\u001b[0monemodel1\u001b[0m\u001b[0;34m,\u001b[0m\u001b[0mx_train\u001b[0m\u001b[0;34m,\u001b[0m\u001b[0my_train\u001b[0m\u001b[0;34m,\u001b[0m\u001b[0mcv\u001b[0m \u001b[0;34m=\u001b[0m \u001b[0;36m5\u001b[0m\u001b[0;34m,\u001b[0m\u001b[0mn_jobs\u001b[0m \u001b[0;34m=\u001b[0m \u001b[0;34m-\u001b[0m\u001b[0;36m1\u001b[0m\u001b[0;34m,\u001b[0m\u001b[0mverbose\u001b[0m \u001b[0;34m=\u001b[0m \u001b[0;36m1\u001b[0m\u001b[0;34m,\u001b[0m\u001b[0mscoring\u001b[0m \u001b[0;34m=\u001b[0m \u001b[0;34m'roc_auc'\u001b[0m\u001b[0;34m)\u001b[0m\u001b[0;34m.\u001b[0m\u001b[0mmean\u001b[0m\u001b[0;34m(\u001b[0m\u001b[0;34m)\u001b[0m\u001b[0;34m\u001b[0m\u001b[0;34m\u001b[0m\u001b[0m\n\u001b[0m",
      "\u001b[0;31mNameError\u001b[0m: name 'x_train' is not defined"
     ]
    }
   ],
   "source": [
    "cross_val_score(onemodel1,x_train,y_train,cv = 5,n_jobs = -1,verbose = 1,scoring = 'roc_auc').mean()"
   ]
  },
  {
   "cell_type": "code",
   "execution_count": null,
   "metadata": {},
   "outputs": [],
   "source": []
  },
  {
   "cell_type": "code",
   "execution_count": 50,
   "metadata": {},
   "outputs": [
    {
     "data": {
      "text/plain": [
       "RandomForestClassifier(bootstrap=True, ccp_alpha=0.0, class_weight=None,\n",
       "                       criterion='gini', max_depth=None, max_features='auto',\n",
       "                       max_leaf_nodes=None, max_samples=None,\n",
       "                       min_impurity_decrease=0.0, min_impurity_split=None,\n",
       "                       min_samples_leaf=10, min_samples_split=2,\n",
       "                       min_weight_fraction_leaf=0.0, n_estimators=400,\n",
       "                       n_jobs=-1, oob_score=False, random_state=None, verbose=0,\n",
       "                       warm_start=False)"
      ]
     },
     "execution_count": 50,
     "metadata": {},
     "output_type": "execute_result"
    }
   ],
   "source": [
    "onemodel2 = RandomForestClassifier(n_estimators=400,n_jobs = -1,min_samples_leaf=10)\n",
    "onemodel2.fit(X_train,Y_train)"
   ]
  },
  {
   "cell_type": "code",
   "execution_count": 51,
   "metadata": {},
   "outputs": [
    {
     "name": "stderr",
     "output_type": "stream",
     "text": [
      "[Parallel(n_jobs=-1)]: Using backend LokyBackend with 4 concurrent workers.\n",
      "[Parallel(n_jobs=-1)]: Done   5 out of   5 | elapsed:    4.8s finished\n"
     ]
    },
    {
     "data": {
      "text/plain": [
       "0.7912296296296295"
      ]
     },
     "execution_count": 51,
     "metadata": {},
     "output_type": "execute_result"
    }
   ],
   "source": [
    "cross_val_score(onemodel2,X_train,Y_train,cv = 5,n_jobs = -1,verbose = 1,scoring = 'roc_auc').mean()"
   ]
  },
  {
   "cell_type": "code",
   "execution_count": 52,
   "metadata": {},
   "outputs": [
    {
     "data": {
      "text/plain": [
       "0.84"
      ]
     },
     "execution_count": 52,
     "metadata": {},
     "output_type": "execute_result"
    }
   ],
   "source": [
    "onemodel2.score(X_test,Y_test)"
   ]
  },
  {
   "cell_type": "code",
   "execution_count": 53,
   "metadata": {},
   "outputs": [
    {
     "data": {
      "text/plain": [
       "array([[0.8943867 , 0.1056133 ],\n",
       "       [0.93312498, 0.06687502],\n",
       "       [0.87356453, 0.12643547],\n",
       "       [0.90493313, 0.09506687],\n",
       "       [0.93508571, 0.06491429],\n",
       "       [0.92379913, 0.07620087],\n",
       "       [0.68489942, 0.31510058],\n",
       "       [0.83900879, 0.16099121],\n",
       "       [0.80263102, 0.19736898],\n",
       "       [0.92781868, 0.07218132],\n",
       "       [0.92847901, 0.07152099],\n",
       "       [0.86355294, 0.13644706],\n",
       "       [0.87766137, 0.12233863],\n",
       "       [0.95384064, 0.04615936],\n",
       "       [0.92689952, 0.07310048],\n",
       "       [0.88714484, 0.11285516],\n",
       "       [0.80341386, 0.19658614],\n",
       "       [0.90059761, 0.09940239],\n",
       "       [0.88332257, 0.11667743],\n",
       "       [0.98149086, 0.01850914],\n",
       "       [0.92736572, 0.07263428],\n",
       "       [0.68277409, 0.31722591],\n",
       "       [0.87788069, 0.12211931],\n",
       "       [0.89741464, 0.10258536],\n",
       "       [0.88718062, 0.11281938],\n",
       "       [0.96608636, 0.03391364],\n",
       "       [0.94781225, 0.05218775],\n",
       "       [0.9359617 , 0.0640383 ],\n",
       "       [0.51249662, 0.48750338],\n",
       "       [0.9216738 , 0.0783262 ],\n",
       "       [0.93385794, 0.06614206],\n",
       "       [0.90082418, 0.09917582],\n",
       "       [0.78712653, 0.21287347],\n",
       "       [0.77696018, 0.22303982],\n",
       "       [0.94945362, 0.05054638],\n",
       "       [0.89548097, 0.10451903],\n",
       "       [0.91067579, 0.08932421],\n",
       "       [0.90928196, 0.09071804],\n",
       "       [0.76073898, 0.23926102],\n",
       "       [0.83737699, 0.16262301],\n",
       "       [0.53496151, 0.46503849],\n",
       "       [0.77021164, 0.22978836],\n",
       "       [0.92253071, 0.07746929],\n",
       "       [0.89160381, 0.10839619],\n",
       "       [0.93835959, 0.06164041],\n",
       "       [0.87456467, 0.12543533],\n",
       "       [0.78892315, 0.21107685],\n",
       "       [0.91036433, 0.08963567],\n",
       "       [0.94888566, 0.05111434],\n",
       "       [0.8629928 , 0.1370072 ],\n",
       "       [0.73724441, 0.26275559],\n",
       "       [0.86072682, 0.13927318],\n",
       "       [0.84909705, 0.15090295],\n",
       "       [0.6311263 , 0.3688737 ],\n",
       "       [0.82417189, 0.17582811],\n",
       "       [0.87659936, 0.12340064],\n",
       "       [0.92540874, 0.07459126],\n",
       "       [0.65316369, 0.34683631],\n",
       "       [0.97073609, 0.02926391],\n",
       "       [0.90060772, 0.09939228],\n",
       "       [0.86324044, 0.13675956],\n",
       "       [0.93139188, 0.06860812],\n",
       "       [0.68117773, 0.31882227],\n",
       "       [0.95615306, 0.04384694],\n",
       "       [0.88984077, 0.11015923],\n",
       "       [0.79731903, 0.20268097],\n",
       "       [0.9359973 , 0.0640027 ],\n",
       "       [0.90107992, 0.09892008],\n",
       "       [0.83112041, 0.16887959],\n",
       "       [0.91008239, 0.08991761],\n",
       "       [0.8156998 , 0.1843002 ],\n",
       "       [0.87063921, 0.12936079],\n",
       "       [0.88690056, 0.11309944],\n",
       "       [0.82699467, 0.17300533],\n",
       "       [0.86376358, 0.13623642],\n",
       "       [0.81191527, 0.18808473],\n",
       "       [0.90954622, 0.09045378],\n",
       "       [0.86245033, 0.13754967],\n",
       "       [0.91211724, 0.08788276],\n",
       "       [0.69036835, 0.30963165],\n",
       "       [0.90754495, 0.09245505],\n",
       "       [0.85765289, 0.14234711],\n",
       "       [0.90941755, 0.09058245],\n",
       "       [0.96860784, 0.03139216],\n",
       "       [0.84031748, 0.15968252],\n",
       "       [0.88898761, 0.11101239],\n",
       "       [0.84388827, 0.15611173],\n",
       "       [0.84607074, 0.15392926],\n",
       "       [0.91146654, 0.08853346],\n",
       "       [0.75576094, 0.24423906],\n",
       "       [0.80012899, 0.19987101],\n",
       "       [0.90740053, 0.09259947],\n",
       "       [0.77109733, 0.22890267],\n",
       "       [0.83931643, 0.16068357],\n",
       "       [0.62807396, 0.37192604],\n",
       "       [0.81305988, 0.18694012],\n",
       "       [0.84039917, 0.15960083],\n",
       "       [0.91003741, 0.08996259],\n",
       "       [0.93356934, 0.06643066],\n",
       "       [0.95837822, 0.04162178],\n",
       "       [0.85007147, 0.14992853],\n",
       "       [0.92830068, 0.07169932],\n",
       "       [0.91522786, 0.08477214],\n",
       "       [0.83151567, 0.16848433],\n",
       "       [0.85443238, 0.14556762],\n",
       "       [0.84601678, 0.15398322],\n",
       "       [0.85329496, 0.14670504],\n",
       "       [0.91259216, 0.08740784],\n",
       "       [0.91163881, 0.08836119],\n",
       "       [0.92180121, 0.07819879],\n",
       "       [0.88109937, 0.11890063],\n",
       "       [0.79203518, 0.20796482],\n",
       "       [0.88678285, 0.11321715],\n",
       "       [0.89963306, 0.10036694],\n",
       "       [0.76050466, 0.23949534],\n",
       "       [0.93681027, 0.06318973],\n",
       "       [0.94282495, 0.05717505],\n",
       "       [0.93027298, 0.06972702],\n",
       "       [0.89643451, 0.10356549],\n",
       "       [0.91698798, 0.08301202],\n",
       "       [0.70265859, 0.29734141],\n",
       "       [0.89632488, 0.10367512],\n",
       "       [0.93243108, 0.06756892],\n",
       "       [0.74436169, 0.25563831],\n",
       "       [0.83275101, 0.16724899],\n",
       "       [0.92084723, 0.07915277],\n",
       "       [0.95417992, 0.04582008],\n",
       "       [0.78200831, 0.21799169],\n",
       "       [0.72243416, 0.27756584],\n",
       "       [0.89847472, 0.10152528],\n",
       "       [0.88226702, 0.11773298],\n",
       "       [0.96158693, 0.03841307],\n",
       "       [0.8867831 , 0.1132169 ],\n",
       "       [0.81806215, 0.18193785],\n",
       "       [0.90861225, 0.09138775],\n",
       "       [0.90990245, 0.09009755],\n",
       "       [0.42964276, 0.57035724],\n",
       "       [0.92742259, 0.07257741],\n",
       "       [0.74977056, 0.25022944],\n",
       "       [0.95548184, 0.04451816],\n",
       "       [0.86619788, 0.13380212],\n",
       "       [0.81756622, 0.18243378],\n",
       "       [0.94150419, 0.05849581],\n",
       "       [0.94445068, 0.05554932],\n",
       "       [0.91541466, 0.08458534],\n",
       "       [0.83450892, 0.16549108],\n",
       "       [0.84314448, 0.15685552],\n",
       "       [0.69464246, 0.30535754],\n",
       "       [0.88680813, 0.11319187],\n",
       "       [0.78841068, 0.21158932],\n",
       "       [0.8426676 , 0.1573324 ],\n",
       "       [0.80007234, 0.19992766],\n",
       "       [0.90009351, 0.09990649],\n",
       "       [0.67649788, 0.32350212],\n",
       "       [0.90823288, 0.09176712],\n",
       "       [0.89116188, 0.10883812],\n",
       "       [0.90914731, 0.09085269],\n",
       "       [0.89116691, 0.10883309],\n",
       "       [0.91777518, 0.08222482],\n",
       "       [0.92256351, 0.07743649],\n",
       "       [0.70971417, 0.29028583],\n",
       "       [0.86192572, 0.13807428],\n",
       "       [0.89113929, 0.10886071],\n",
       "       [0.93934904, 0.06065096],\n",
       "       [0.90417235, 0.09582765],\n",
       "       [0.78319583, 0.21680417],\n",
       "       [0.79764251, 0.20235749],\n",
       "       [0.87286824, 0.12713176],\n",
       "       [0.97311817, 0.02688183],\n",
       "       [0.92623466, 0.07376534],\n",
       "       [0.88799725, 0.11200275],\n",
       "       [0.90335715, 0.09664285],\n",
       "       [0.85274706, 0.14725294],\n",
       "       [0.82268594, 0.17731406],\n",
       "       [0.91530203, 0.08469797],\n",
       "       [0.85623954, 0.14376046],\n",
       "       [0.88764067, 0.11235933],\n",
       "       [0.87348613, 0.12651387],\n",
       "       [0.94323178, 0.05676822],\n",
       "       [0.66728505, 0.33271495],\n",
       "       [0.69300097, 0.30699903],\n",
       "       [0.72339457, 0.27660543],\n",
       "       [0.54744254, 0.45255746],\n",
       "       [0.88683572, 0.11316428],\n",
       "       [0.62582278, 0.37417722],\n",
       "       [0.85646141, 0.14353859],\n",
       "       [0.94786879, 0.05213121],\n",
       "       [0.89392187, 0.10607813],\n",
       "       [0.90128408, 0.09871592],\n",
       "       [0.90009339, 0.09990661],\n",
       "       [0.79829589, 0.20170411],\n",
       "       [0.83464671, 0.16535329],\n",
       "       [0.94284119, 0.05715881],\n",
       "       [0.76817913, 0.23182087],\n",
       "       [0.74354523, 0.25645477],\n",
       "       [0.77756959, 0.22243041],\n",
       "       [0.85498923, 0.14501077],\n",
       "       [0.84010976, 0.15989024],\n",
       "       [0.93744974, 0.06255026],\n",
       "       [0.89198701, 0.10801299],\n",
       "       [0.72083198, 0.27916802],\n",
       "       [0.72171335, 0.27828665],\n",
       "       [0.67943471, 0.32056529],\n",
       "       [0.86027391, 0.13972609],\n",
       "       [0.85366524, 0.14633476],\n",
       "       [0.9315571 , 0.0684429 ],\n",
       "       [0.73287095, 0.26712905],\n",
       "       [0.79138844, 0.20861156],\n",
       "       [0.88864171, 0.11135829],\n",
       "       [0.73360235, 0.26639765],\n",
       "       [0.79275288, 0.20724712],\n",
       "       [0.86266986, 0.13733014],\n",
       "       [0.84149049, 0.15850951],\n",
       "       [0.78940138, 0.21059862],\n",
       "       [0.72742256, 0.27257744],\n",
       "       [0.56302099, 0.43697901],\n",
       "       [0.78494679, 0.21505321],\n",
       "       [0.89981554, 0.10018446],\n",
       "       [0.86428722, 0.13571278],\n",
       "       [0.87091026, 0.12908974],\n",
       "       [0.91538312, 0.08461688],\n",
       "       [0.83655687, 0.16344313],\n",
       "       [0.89011521, 0.10988479],\n",
       "       [0.77231165, 0.22768835],\n",
       "       [0.78003717, 0.21996283],\n",
       "       [0.92947022, 0.07052978],\n",
       "       [0.77044568, 0.22955432],\n",
       "       [0.88124684, 0.11875316],\n",
       "       [0.92108037, 0.07891963],\n",
       "       [0.8319492 , 0.1680508 ],\n",
       "       [0.67665238, 0.32334762],\n",
       "       [0.90613466, 0.09386534],\n",
       "       [0.83169591, 0.16830409],\n",
       "       [0.75710854, 0.24289146],\n",
       "       [0.93156802, 0.06843198],\n",
       "       [0.88801397, 0.11198603],\n",
       "       [0.87668047, 0.12331953],\n",
       "       [0.92029022, 0.07970978],\n",
       "       [0.68463616, 0.31536384],\n",
       "       [0.9316966 , 0.0683034 ],\n",
       "       [0.94374548, 0.05625452],\n",
       "       [0.92561764, 0.07438236],\n",
       "       [0.68263078, 0.31736922],\n",
       "       [0.6539494 , 0.3460506 ],\n",
       "       [0.93161387, 0.06838613],\n",
       "       [0.94260552, 0.05739448],\n",
       "       [0.64204152, 0.35795848],\n",
       "       [0.90403031, 0.09596969],\n",
       "       [0.95469903, 0.04530097],\n",
       "       [0.91864129, 0.08135871],\n",
       "       [0.935955  , 0.064045  ],\n",
       "       [0.93897538, 0.06102462],\n",
       "       [0.92291691, 0.07708309],\n",
       "       [0.88797664, 0.11202336],\n",
       "       [0.93276823, 0.06723177],\n",
       "       [0.60146224, 0.39853776],\n",
       "       [0.91552889, 0.08447111],\n",
       "       [0.87306439, 0.12693561],\n",
       "       [0.81561752, 0.18438248],\n",
       "       [0.68220246, 0.31779754],\n",
       "       [0.96284121, 0.03715879],\n",
       "       [0.92045943, 0.07954057],\n",
       "       [0.75043398, 0.24956602],\n",
       "       [0.74308707, 0.25691293],\n",
       "       [0.79365864, 0.20634136],\n",
       "       [0.84075819, 0.15924181],\n",
       "       [0.91647066, 0.08352934],\n",
       "       [0.90763293, 0.09236707],\n",
       "       [0.75387169, 0.24612831],\n",
       "       [0.8813312 , 0.1186688 ],\n",
       "       [0.91891506, 0.08108494],\n",
       "       [0.84443114, 0.15556886],\n",
       "       [0.52217937, 0.47782063],\n",
       "       [0.69920012, 0.30079988],\n",
       "       [0.77112104, 0.22887896],\n",
       "       [0.80751293, 0.19248707],\n",
       "       [0.89085154, 0.10914846],\n",
       "       [0.77511537, 0.22488463],\n",
       "       [0.89512623, 0.10487377],\n",
       "       [0.83428248, 0.16571752],\n",
       "       [0.77957699, 0.22042301],\n",
       "       [0.77153909, 0.22846091],\n",
       "       [0.86097163, 0.13902837],\n",
       "       [0.92566627, 0.07433373],\n",
       "       [0.79222951, 0.20777049],\n",
       "       [0.66446802, 0.33553198],\n",
       "       [0.88115724, 0.11884276],\n",
       "       [0.88302655, 0.11697345],\n",
       "       [0.92099321, 0.07900679],\n",
       "       [0.87036219, 0.12963781],\n",
       "       [0.75017678, 0.24982322],\n",
       "       [0.92648961, 0.07351039],\n",
       "       [0.89250422, 0.10749578],\n",
       "       [0.87885146, 0.12114854],\n",
       "       [0.95394905, 0.04605095],\n",
       "       [0.87519995, 0.12480005],\n",
       "       [0.9027514 , 0.0972486 ],\n",
       "       [0.83981336, 0.16018664],\n",
       "       [0.71770389, 0.28229611],\n",
       "       [0.88700099, 0.11299901],\n",
       "       [0.94429318, 0.05570682],\n",
       "       [0.93341786, 0.06658214],\n",
       "       [0.89134907, 0.10865093],\n",
       "       [0.66263905, 0.33736095],\n",
       "       [0.91681959, 0.08318041],\n",
       "       [0.91268947, 0.08731053],\n",
       "       [0.84852653, 0.15147347],\n",
       "       [0.86217814, 0.13782186],\n",
       "       [0.90303609, 0.09696391],\n",
       "       [0.95530361, 0.04469639],\n",
       "       [0.89862298, 0.10137702],\n",
       "       [0.81963692, 0.18036308],\n",
       "       [0.80528876, 0.19471124],\n",
       "       [0.87057805, 0.12942195],\n",
       "       [0.73028852, 0.26971148],\n",
       "       [0.83390084, 0.16609916],\n",
       "       [0.64780004, 0.35219996],\n",
       "       [0.86836968, 0.13163032],\n",
       "       [0.94923951, 0.05076049],\n",
       "       [0.8649441 , 0.1350559 ],\n",
       "       [0.88737651, 0.11262349],\n",
       "       [0.81920492, 0.18079508],\n",
       "       [0.92923551, 0.07076449],\n",
       "       [0.86432299, 0.13567701],\n",
       "       [0.57702644, 0.42297356],\n",
       "       [0.89616387, 0.10383613],\n",
       "       [0.61500973, 0.38499027],\n",
       "       [0.68505501, 0.31494499],\n",
       "       [0.81779728, 0.18220272],\n",
       "       [0.77214   , 0.22786   ],\n",
       "       [0.85432383, 0.14567617],\n",
       "       [0.79335061, 0.20664939],\n",
       "       [0.90936991, 0.09063009],\n",
       "       [0.87653299, 0.12346701],\n",
       "       [0.81129043, 0.18870957],\n",
       "       [0.95387249, 0.04612751],\n",
       "       [0.79861401, 0.20138599],\n",
       "       [0.92738881, 0.07261119],\n",
       "       [0.86156492, 0.13843508],\n",
       "       [0.7152355 , 0.2847645 ],\n",
       "       [0.87500032, 0.12499968],\n",
       "       [0.80428842, 0.19571158],\n",
       "       [0.96562573, 0.03437427],\n",
       "       [0.86383836, 0.13616164],\n",
       "       [0.83662165, 0.16337835],\n",
       "       [0.82743408, 0.17256592],\n",
       "       [0.76542668, 0.23457332],\n",
       "       [0.89937473, 0.10062527],\n",
       "       [0.92686831, 0.07313169],\n",
       "       [0.87051559, 0.12948441],\n",
       "       [0.96056506, 0.03943494],\n",
       "       [0.94475484, 0.05524516],\n",
       "       [0.80602633, 0.19397367],\n",
       "       [0.867913  , 0.132087  ],\n",
       "       [0.96115809, 0.03884191],\n",
       "       [0.66755769, 0.33244231],\n",
       "       [0.73747104, 0.26252896],\n",
       "       [0.90770007, 0.09229993],\n",
       "       [0.92462391, 0.07537609],\n",
       "       [0.70050988, 0.29949012],\n",
       "       [0.92654282, 0.07345718],\n",
       "       [0.91969449, 0.08030551],\n",
       "       [0.91200298, 0.08799702],\n",
       "       [0.81230324, 0.18769676],\n",
       "       [0.75776606, 0.24223394],\n",
       "       [0.86645088, 0.13354912],\n",
       "       [0.84578561, 0.15421439],\n",
       "       [0.86801896, 0.13198104],\n",
       "       [0.88247795, 0.11752205],\n",
       "       [0.7567158 , 0.2432842 ],\n",
       "       [0.86548706, 0.13451294],\n",
       "       [0.86514078, 0.13485922],\n",
       "       [0.91630973, 0.08369027],\n",
       "       [0.75843018, 0.24156982],\n",
       "       [0.77502943, 0.22497057],\n",
       "       [0.88998854, 0.11001146],\n",
       "       [0.80987525, 0.19012475],\n",
       "       [0.8344307 , 0.1655693 ],\n",
       "       [0.79552663, 0.20447337],\n",
       "       [0.95533699, 0.04466301],\n",
       "       [0.64075581, 0.35924419],\n",
       "       [0.85325523, 0.14674477],\n",
       "       [0.93535671, 0.06464329],\n",
       "       [0.94799517, 0.05200483],\n",
       "       [0.67219422, 0.32780578],\n",
       "       [0.7888817 , 0.2111183 ],\n",
       "       [0.7120353 , 0.2879647 ],\n",
       "       [0.64524856, 0.35475144],\n",
       "       [0.73896595, 0.26103405],\n",
       "       [0.73525679, 0.26474321],\n",
       "       [0.9367263 , 0.0632737 ],\n",
       "       [0.97116922, 0.02883078],\n",
       "       [0.85822651, 0.14177349],\n",
       "       [0.87521355, 0.12478645],\n",
       "       [0.92776019, 0.07223981],\n",
       "       [0.87166129, 0.12833871],\n",
       "       [0.70019518, 0.29980482],\n",
       "       [0.9459382 , 0.0540618 ],\n",
       "       [0.93217657, 0.06782343],\n",
       "       [0.89684894, 0.10315106],\n",
       "       [0.92253079, 0.07746921],\n",
       "       [0.95500589, 0.04499411],\n",
       "       [0.77260431, 0.22739569],\n",
       "       [0.81562145, 0.18437855],\n",
       "       [0.78792819, 0.21207181],\n",
       "       [0.93131132, 0.06868868],\n",
       "       [0.86913356, 0.13086644],\n",
       "       [0.72244906, 0.27755094],\n",
       "       [0.86225219, 0.13774781],\n",
       "       [0.84755673, 0.15244327],\n",
       "       [0.89502309, 0.10497691],\n",
       "       [0.96136782, 0.03863218],\n",
       "       [0.84558533, 0.15441467],\n",
       "       [0.88473633, 0.11526367],\n",
       "       [0.91383002, 0.08616998],\n",
       "       [0.95841585, 0.04158415],\n",
       "       [0.59127865, 0.40872135],\n",
       "       [0.85703589, 0.14296411],\n",
       "       [0.89419002, 0.10580998],\n",
       "       [0.89271945, 0.10728055],\n",
       "       [0.83139358, 0.16860642],\n",
       "       [0.77187144, 0.22812856],\n",
       "       [0.84907518, 0.15092482],\n",
       "       [0.86582701, 0.13417299],\n",
       "       [0.84433783, 0.15566217],\n",
       "       [0.95979253, 0.04020747],\n",
       "       [0.88737045, 0.11262955],\n",
       "       [0.87130579, 0.12869421],\n",
       "       [0.90477879, 0.09522121],\n",
       "       [0.822417  , 0.177583  ],\n",
       "       [0.91654923, 0.08345077],\n",
       "       [0.94092419, 0.05907581],\n",
       "       [0.90332484, 0.09667516],\n",
       "       [0.95598598, 0.04401402],\n",
       "       [0.92266664, 0.07733336],\n",
       "       [0.92185774, 0.07814226],\n",
       "       [0.88465588, 0.11534412],\n",
       "       [0.90423193, 0.09576807],\n",
       "       [0.93034716, 0.06965284],\n",
       "       [0.95256197, 0.04743803],\n",
       "       [0.8129932 , 0.1870068 ],\n",
       "       [0.92549515, 0.07450485],\n",
       "       [0.91103963, 0.08896037],\n",
       "       [0.94588706, 0.05411294],\n",
       "       [0.84814326, 0.15185674],\n",
       "       [0.93998618, 0.06001382],\n",
       "       [0.93514843, 0.06485157],\n",
       "       [0.86031522, 0.13968478],\n",
       "       [0.90705242, 0.09294758],\n",
       "       [0.86890806, 0.13109194],\n",
       "       [0.92674877, 0.07325123],\n",
       "       [0.83638292, 0.16361708],\n",
       "       [0.69271875, 0.30728125],\n",
       "       [0.81258338, 0.18741662],\n",
       "       [0.8250006 , 0.1749994 ],\n",
       "       [0.93148844, 0.06851156],\n",
       "       [0.63649421, 0.36350579],\n",
       "       [0.73688362, 0.26311638],\n",
       "       [0.68036239, 0.31963761],\n",
       "       [0.90499502, 0.09500498],\n",
       "       [0.91012704, 0.08987296],\n",
       "       [0.87451316, 0.12548684],\n",
       "       [0.80745693, 0.19254307],\n",
       "       [0.80763213, 0.19236787],\n",
       "       [0.7624438 , 0.2375562 ],\n",
       "       [0.72945416, 0.27054584],\n",
       "       [0.4840758 , 0.5159242 ],\n",
       "       [0.79817273, 0.20182727],\n",
       "       [0.90054076, 0.09945924],\n",
       "       [0.91582763, 0.08417237]])"
      ]
     },
     "execution_count": 53,
     "metadata": {},
     "output_type": "execute_result"
    }
   ],
   "source": [
    "onemodel2.predict_proba(test_dummy2)"
   ]
  },
  {
   "cell_type": "code",
   "execution_count": 54,
   "metadata": {},
   "outputs": [
    {
     "name": "stderr",
     "output_type": "stream",
     "text": [
      "[Parallel(n_jobs=-1)]: Using backend LokyBackend with 4 concurrent workers.\n",
      "[Parallel(n_jobs=-1)]: Done   5 out of   5 | elapsed:    0.2s finished\n"
     ]
    },
    {
     "data": {
      "text/plain": [
       "0.789688888888889"
      ]
     },
     "execution_count": 54,
     "metadata": {},
     "output_type": "execute_result"
    }
   ],
   "source": [
    "from sklearn.ensemble import RandomForestClassifier\n",
    "from xgboost import XGBClassifier\n",
    "from lightgbm import LGBMClassifier\n",
    "\n",
    "onemodel5 = LGBMClassifier(random_state=7, n_estimators=100, colsample_bytree=0.5, \n",
    "                       max_depth=2, learning_rate=0.1, boosting_type='gbdt')\n",
    "cross_val_score(onemodel5, X_train, Y_train, cv=5, n_jobs=-1, verbose=1, scoring='roc_auc').mean()"
   ]
  },
  {
   "cell_type": "code",
   "execution_count": 55,
   "metadata": {},
   "outputs": [
    {
     "data": {
      "text/plain": [
       "((800, 52), (470, 52))"
      ]
     },
     "execution_count": 55,
     "metadata": {},
     "output_type": "execute_result"
    }
   ],
   "source": [
    "X_train.shape,test_dummy2.shape"
   ]
  },
  {
   "cell_type": "code",
   "execution_count": 56,
   "metadata": {},
   "outputs": [
    {
     "data": {
      "text/plain": [
       "array([[0.91729243, 0.08270757],\n",
       "       [0.96245202, 0.03754798],\n",
       "       [0.93075659, 0.06924341],\n",
       "       [0.92789224, 0.07210776],\n",
       "       [0.9632182 , 0.0367818 ],\n",
       "       [0.90974423, 0.09025577],\n",
       "       [0.77457631, 0.22542369],\n",
       "       [0.88062905, 0.11937095],\n",
       "       [0.91298193, 0.08701807],\n",
       "       [0.93952517, 0.06047483],\n",
       "       [0.97563688, 0.02436312],\n",
       "       [0.90055083, 0.09944917],\n",
       "       [0.94121928, 0.05878072],\n",
       "       [0.95889355, 0.04110645],\n",
       "       [0.92893226, 0.07106774],\n",
       "       [0.91228399, 0.08771601],\n",
       "       [0.75372889, 0.24627111],\n",
       "       [0.94056817, 0.05943183],\n",
       "       [0.87628411, 0.12371589],\n",
       "       [0.98619479, 0.01380521],\n",
       "       [0.9709723 , 0.0290277 ],\n",
       "       [0.22109912, 0.77890088],\n",
       "       [0.9750064 , 0.0249936 ],\n",
       "       [0.95161931, 0.04838069],\n",
       "       [0.84246548, 0.15753452],\n",
       "       [0.98498654, 0.01501346],\n",
       "       [0.97484517, 0.02515483],\n",
       "       [0.95690422, 0.04309578],\n",
       "       [0.19031553, 0.80968447],\n",
       "       [0.94743381, 0.05256619],\n",
       "       [0.97562753, 0.02437247],\n",
       "       [0.95184478, 0.04815522],\n",
       "       [0.81373697, 0.18626303],\n",
       "       [0.73231974, 0.26768026],\n",
       "       [0.97745379, 0.02254621],\n",
       "       [0.94659706, 0.05340294],\n",
       "       [0.97119149, 0.02880851],\n",
       "       [0.97474791, 0.02525209],\n",
       "       [0.82550776, 0.17449224],\n",
       "       [0.71884459, 0.28115541],\n",
       "       [0.11043261, 0.88956739],\n",
       "       [0.79833833, 0.20166167],\n",
       "       [0.98013632, 0.01986368],\n",
       "       [0.91530745, 0.08469255],\n",
       "       [0.98750398, 0.01249602],\n",
       "       [0.92406268, 0.07593732],\n",
       "       [0.81861848, 0.18138152],\n",
       "       [0.95316971, 0.04683029],\n",
       "       [0.99585456, 0.00414544],\n",
       "       [0.89000835, 0.10999165],\n",
       "       [0.71480307, 0.28519693],\n",
       "       [0.86405818, 0.13594182],\n",
       "       [0.8288911 , 0.1711089 ],\n",
       "       [0.76101274, 0.23898726],\n",
       "       [0.82772734, 0.17227266],\n",
       "       [0.90199084, 0.09800916],\n",
       "       [0.97261936, 0.02738064],\n",
       "       [0.27457227, 0.72542773],\n",
       "       [0.9919715 , 0.0080285 ],\n",
       "       [0.90366576, 0.09633424],\n",
       "       [0.9420085 , 0.0579915 ],\n",
       "       [0.96198967, 0.03801033],\n",
       "       [0.64793083, 0.35206917],\n",
       "       [0.98534367, 0.01465633],\n",
       "       [0.8789818 , 0.1210182 ],\n",
       "       [0.95735324, 0.04264676],\n",
       "       [0.97104151, 0.02895849],\n",
       "       [0.89986813, 0.10013187],\n",
       "       [0.87704347, 0.12295653],\n",
       "       [0.90905747, 0.09094253],\n",
       "       [0.83529863, 0.16470137],\n",
       "       [0.90862394, 0.09137606],\n",
       "       [0.91075596, 0.08924404],\n",
       "       [0.84104607, 0.15895393],\n",
       "       [0.88302605, 0.11697395],\n",
       "       [0.69306951, 0.30693049],\n",
       "       [0.94721009, 0.05278991],\n",
       "       [0.91766901, 0.08233099],\n",
       "       [0.95348301, 0.04651699],\n",
       "       [0.7158793 , 0.2841207 ],\n",
       "       [0.95348687, 0.04651313],\n",
       "       [0.80944361, 0.19055639],\n",
       "       [0.89756616, 0.10243384],\n",
       "       [0.98781494, 0.01218506],\n",
       "       [0.9273417 , 0.0726583 ],\n",
       "       [0.97029982, 0.02970018],\n",
       "       [0.80415407, 0.19584593],\n",
       "       [0.91011732, 0.08988268],\n",
       "       [0.96837135, 0.03162865],\n",
       "       [0.80815468, 0.19184532],\n",
       "       [0.53584665, 0.46415335],\n",
       "       [0.97601326, 0.02398674],\n",
       "       [0.83052999, 0.16947001],\n",
       "       [0.83383345, 0.16616655],\n",
       "       [0.43080158, 0.56919842],\n",
       "       [0.80013297, 0.19986703],\n",
       "       [0.77858272, 0.22141728],\n",
       "       [0.93453105, 0.06546895],\n",
       "       [0.98320465, 0.01679535],\n",
       "       [0.98007333, 0.01992667],\n",
       "       [0.94494538, 0.05505462],\n",
       "       [0.97767548, 0.02232452],\n",
       "       [0.94473534, 0.05526466],\n",
       "       [0.8978349 , 0.1021651 ],\n",
       "       [0.81171242, 0.18828758],\n",
       "       [0.84194052, 0.15805948],\n",
       "       [0.81046832, 0.18953168],\n",
       "       [0.89044162, 0.10955838],\n",
       "       [0.96765053, 0.03234947],\n",
       "       [0.96135313, 0.03864687],\n",
       "       [0.94740674, 0.05259326],\n",
       "       [0.73772436, 0.26227564],\n",
       "       [0.95324818, 0.04675182],\n",
       "       [0.97563698, 0.02436302],\n",
       "       [0.70989201, 0.29010799],\n",
       "       [0.98422444, 0.01577556],\n",
       "       [0.98365982, 0.01634018],\n",
       "       [0.98380395, 0.01619605],\n",
       "       [0.90138788, 0.09861212],\n",
       "       [0.95482291, 0.04517709],\n",
       "       [0.74633106, 0.25366894],\n",
       "       [0.94037399, 0.05962601],\n",
       "       [0.94327487, 0.05672513],\n",
       "       [0.82919983, 0.17080017],\n",
       "       [0.85495437, 0.14504563],\n",
       "       [0.96812264, 0.03187736],\n",
       "       [0.96851444, 0.03148556],\n",
       "       [0.86282164, 0.13717836],\n",
       "       [0.61628649, 0.38371351],\n",
       "       [0.93759763, 0.06240237],\n",
       "       [0.85301802, 0.14698198],\n",
       "       [0.98251533, 0.01748467],\n",
       "       [0.93158872, 0.06841128],\n",
       "       [0.8485885 , 0.1514115 ],\n",
       "       [0.9697557 , 0.0302443 ],\n",
       "       [0.92844972, 0.07155028],\n",
       "       [0.08309804, 0.91690196],\n",
       "       [0.97360205, 0.02639795],\n",
       "       [0.6546991 , 0.3453009 ],\n",
       "       [0.99147544, 0.00852456],\n",
       "       [0.8804185 , 0.1195815 ],\n",
       "       [0.91541994, 0.08458006],\n",
       "       [0.9609524 , 0.0390476 ],\n",
       "       [0.95994524, 0.04005476],\n",
       "       [0.91854829, 0.08145171],\n",
       "       [0.83076012, 0.16923988],\n",
       "       [0.78869415, 0.21130585],\n",
       "       [0.71183024, 0.28816976],\n",
       "       [0.95088825, 0.04911175],\n",
       "       [0.56926402, 0.43073598],\n",
       "       [0.88377129, 0.11622871],\n",
       "       [0.86255252, 0.13744748],\n",
       "       [0.91394347, 0.08605653],\n",
       "       [0.7079797 , 0.2920203 ],\n",
       "       [0.95460981, 0.04539019],\n",
       "       [0.95457816, 0.04542184],\n",
       "       [0.9497584 , 0.0502416 ],\n",
       "       [0.95884972, 0.04115028],\n",
       "       [0.98186848, 0.01813152],\n",
       "       [0.98206113, 0.01793887],\n",
       "       [0.35805243, 0.64194757],\n",
       "       [0.90113483, 0.09886517],\n",
       "       [0.97519941, 0.02480059],\n",
       "       [0.97685039, 0.02314961],\n",
       "       [0.96295906, 0.03704094],\n",
       "       [0.85243538, 0.14756462],\n",
       "       [0.78522235, 0.21477765],\n",
       "       [0.87554195, 0.12445805],\n",
       "       [0.9889152 , 0.0110848 ],\n",
       "       [0.97366692, 0.02633308],\n",
       "       [0.91844675, 0.08155325],\n",
       "       [0.97436123, 0.02563877],\n",
       "       [0.84770746, 0.15229254],\n",
       "       [0.77221259, 0.22778741],\n",
       "       [0.97191629, 0.02808371],\n",
       "       [0.94814761, 0.05185239],\n",
       "       [0.96807576, 0.03192424],\n",
       "       [0.88531244, 0.11468756],\n",
       "       [0.95736652, 0.04263348],\n",
       "       [0.57047157, 0.42952843],\n",
       "       [0.69499866, 0.30500134],\n",
       "       [0.61535727, 0.38464273],\n",
       "       [0.30682334, 0.69317666],\n",
       "       [0.93180224, 0.06819776],\n",
       "       [0.43020187, 0.56979813],\n",
       "       [0.8602784 , 0.1397216 ],\n",
       "       [0.99012378, 0.00987622],\n",
       "       [0.87346533, 0.12653467],\n",
       "       [0.95679326, 0.04320674],\n",
       "       [0.93952195, 0.06047805],\n",
       "       [0.80746778, 0.19253222],\n",
       "       [0.93556838, 0.06443162],\n",
       "       [0.96926723, 0.03073277],\n",
       "       [0.87189503, 0.12810497],\n",
       "       [0.58521275, 0.41478725],\n",
       "       [0.84670521, 0.15329479],\n",
       "       [0.91210232, 0.08789768],\n",
       "       [0.82583738, 0.17416262],\n",
       "       [0.97323743, 0.02676257],\n",
       "       [0.93255847, 0.06744153],\n",
       "       [0.70885019, 0.29114981],\n",
       "       [0.56862205, 0.43137795],\n",
       "       [0.50041527, 0.49958473],\n",
       "       [0.95498239, 0.04501761],\n",
       "       [0.90917975, 0.09082025],\n",
       "       [0.9753312 , 0.0246688 ],\n",
       "       [0.71306042, 0.28693958],\n",
       "       [0.86702856, 0.13297144],\n",
       "       [0.94075771, 0.05924229],\n",
       "       [0.76134139, 0.23865861],\n",
       "       [0.65037324, 0.34962676],\n",
       "       [0.9032752 , 0.0967248 ],\n",
       "       [0.91580756, 0.08419244],\n",
       "       [0.74585718, 0.25414282],\n",
       "       [0.54996814, 0.45003186],\n",
       "       [0.3765966 , 0.6234034 ],\n",
       "       [0.69205522, 0.30794478],\n",
       "       [0.94688848, 0.05311152],\n",
       "       [0.91575105, 0.08424895],\n",
       "       [0.9219323 , 0.0780677 ],\n",
       "       [0.89580953, 0.10419047],\n",
       "       [0.83338925, 0.16661075],\n",
       "       [0.90987508, 0.09012492],\n",
       "       [0.84394599, 0.15605401],\n",
       "       [0.6513757 , 0.3486243 ],\n",
       "       [0.95686062, 0.04313938],\n",
       "       [0.79594303, 0.20405697],\n",
       "       [0.95639551, 0.04360449],\n",
       "       [0.94752755, 0.05247245],\n",
       "       [0.95689248, 0.04310752],\n",
       "       [0.48424854, 0.51575146],\n",
       "       [0.93045458, 0.06954542],\n",
       "       [0.90272694, 0.09727306],\n",
       "       [0.7083133 , 0.2916867 ],\n",
       "       [0.97203228, 0.02796772],\n",
       "       [0.8495407 , 0.1504593 ],\n",
       "       [0.90199095, 0.09800905],\n",
       "       [0.98351564, 0.01648436],\n",
       "       [0.54953018, 0.45046982],\n",
       "       [0.94466542, 0.05533458],\n",
       "       [0.97500789, 0.02499211],\n",
       "       [0.94649477, 0.05350523],\n",
       "       [0.53706601, 0.46293399],\n",
       "       [0.42771511, 0.57228489],\n",
       "       [0.96687467, 0.03312533],\n",
       "       [0.98368161, 0.01631839],\n",
       "       [0.28167239, 0.71832761],\n",
       "       [0.94285044, 0.05714956],\n",
       "       [0.99581022, 0.00418978],\n",
       "       [0.93918273, 0.06081727],\n",
       "       [0.95468934, 0.04531066],\n",
       "       [0.97973869, 0.02026131],\n",
       "       [0.94980713, 0.05019287],\n",
       "       [0.94149534, 0.05850466],\n",
       "       [0.94754055, 0.05245945],\n",
       "       [0.38251207, 0.61748793],\n",
       "       [0.94471776, 0.05528224],\n",
       "       [0.92817927, 0.07182073],\n",
       "       [0.85120429, 0.14879571],\n",
       "       [0.75159894, 0.24840106],\n",
       "       [0.97249059, 0.02750941],\n",
       "       [0.92489726, 0.07510274],\n",
       "       [0.55165552, 0.44834448],\n",
       "       [0.54668504, 0.45331496],\n",
       "       [0.62146588, 0.37853412],\n",
       "       [0.83222805, 0.16777195],\n",
       "       [0.97541376, 0.02458624],\n",
       "       [0.96450749, 0.03549251],\n",
       "       [0.78899462, 0.21100538],\n",
       "       [0.9347092 , 0.0652908 ],\n",
       "       [0.97402486, 0.02597514],\n",
       "       [0.87528142, 0.12471858],\n",
       "       [0.06274122, 0.93725878],\n",
       "       [0.81021523, 0.18978477],\n",
       "       [0.60176709, 0.39823291],\n",
       "       [0.85700845, 0.14299155],\n",
       "       [0.8709003 , 0.1290997 ],\n",
       "       [0.80701167, 0.19298833],\n",
       "       [0.94773972, 0.05226028],\n",
       "       [0.9300018 , 0.0699982 ],\n",
       "       [0.70081289, 0.29918711],\n",
       "       [0.67648862, 0.32351138],\n",
       "       [0.9013668 , 0.0986332 ],\n",
       "       [0.96510671, 0.03489329],\n",
       "       [0.85942108, 0.14057892],\n",
       "       [0.5815422 , 0.4184578 ],\n",
       "       [0.90950844, 0.09049156],\n",
       "       [0.93691194, 0.06308806],\n",
       "       [0.94491646, 0.05508354],\n",
       "       [0.86590383, 0.13409617],\n",
       "       [0.47078961, 0.52921039],\n",
       "       [0.92379541, 0.07620459],\n",
       "       [0.89447075, 0.10552925],\n",
       "       [0.94517542, 0.05482458],\n",
       "       [0.97437106, 0.02562894],\n",
       "       [0.90559763, 0.09440237],\n",
       "       [0.96435017, 0.03564983],\n",
       "       [0.93695663, 0.06304337],\n",
       "       [0.61111598, 0.38888402],\n",
       "       [0.93637569, 0.06362431],\n",
       "       [0.94939301, 0.05060699],\n",
       "       [0.97504757, 0.02495243],\n",
       "       [0.91682967, 0.08317033],\n",
       "       [0.13921475, 0.86078525],\n",
       "       [0.95801328, 0.04198672],\n",
       "       [0.96842596, 0.03157404],\n",
       "       [0.87856147, 0.12143853],\n",
       "       [0.88656971, 0.11343029],\n",
       "       [0.95069589, 0.04930411],\n",
       "       [0.97858183, 0.02141817],\n",
       "       [0.95945276, 0.04054724],\n",
       "       [0.7003121 , 0.2996879 ],\n",
       "       [0.86439921, 0.13560079],\n",
       "       [0.89939903, 0.10060097],\n",
       "       [0.7152657 , 0.2847343 ],\n",
       "       [0.85368507, 0.14631493],\n",
       "       [0.60412028, 0.39587972],\n",
       "       [0.82483365, 0.17516635],\n",
       "       [0.9492211 , 0.0507789 ],\n",
       "       [0.94177457, 0.05822543],\n",
       "       [0.92959029, 0.07040971],\n",
       "       [0.84352036, 0.15647964],\n",
       "       [0.95172229, 0.04827771],\n",
       "       [0.92091196, 0.07908804],\n",
       "       [0.50745386, 0.49254614],\n",
       "       [0.95651862, 0.04348138],\n",
       "       [0.37367294, 0.62632706],\n",
       "       [0.78531606, 0.21468394],\n",
       "       [0.75961542, 0.24038458],\n",
       "       [0.8288836 , 0.1711164 ],\n",
       "       [0.93488441, 0.06511559],\n",
       "       [0.8791888 , 0.1208112 ],\n",
       "       [0.96336577, 0.03663423],\n",
       "       [0.86892993, 0.13107007],\n",
       "       [0.74400675, 0.25599325],\n",
       "       [0.98398677, 0.01601323],\n",
       "       [0.78809816, 0.21190184],\n",
       "       [0.91660334, 0.08339666],\n",
       "       [0.9381256 , 0.0618744 ],\n",
       "       [0.36658393, 0.63341607],\n",
       "       [0.91478564, 0.08521436],\n",
       "       [0.80787019, 0.19212981],\n",
       "       [0.99407484, 0.00592516],\n",
       "       [0.84579004, 0.15420996],\n",
       "       [0.81285056, 0.18714944],\n",
       "       [0.86690402, 0.13309598],\n",
       "       [0.74917021, 0.25082979],\n",
       "       [0.90166824, 0.09833176],\n",
       "       [0.95669696, 0.04330304],\n",
       "       [0.8197667 , 0.1802333 ],\n",
       "       [0.98169031, 0.01830969],\n",
       "       [0.93348713, 0.06651287],\n",
       "       [0.89493483, 0.10506517],\n",
       "       [0.93752077, 0.06247923],\n",
       "       [0.97432328, 0.02567672],\n",
       "       [0.51330958, 0.48669042],\n",
       "       [0.49699176, 0.50300824],\n",
       "       [0.97825821, 0.02174179],\n",
       "       [0.93798585, 0.06201415],\n",
       "       [0.67133333, 0.32866667],\n",
       "       [0.96283726, 0.03716274],\n",
       "       [0.95779511, 0.04220489],\n",
       "       [0.96972382, 0.03027618],\n",
       "       [0.78730418, 0.21269582],\n",
       "       [0.45979764, 0.54020236],\n",
       "       [0.94655939, 0.05344061],\n",
       "       [0.90899213, 0.09100787],\n",
       "       [0.87901959, 0.12098041],\n",
       "       [0.86183481, 0.13816519],\n",
       "       [0.60195257, 0.39804743],\n",
       "       [0.87134681, 0.12865319],\n",
       "       [0.95864887, 0.04135113],\n",
       "       [0.96045903, 0.03954097],\n",
       "       [0.87867885, 0.12132115],\n",
       "       [0.86009675, 0.13990325],\n",
       "       [0.94622243, 0.05377757],\n",
       "       [0.7526785 , 0.2473215 ],\n",
       "       [0.88261082, 0.11738918],\n",
       "       [0.82125291, 0.17874709],\n",
       "       [0.97839457, 0.02160543],\n",
       "       [0.43479845, 0.56520155],\n",
       "       [0.89432713, 0.10567287],\n",
       "       [0.97896049, 0.02103951],\n",
       "       [0.97185408, 0.02814592],\n",
       "       [0.74326761, 0.25673239],\n",
       "       [0.65167187, 0.34832813],\n",
       "       [0.4377602 , 0.5622398 ],\n",
       "       [0.45748277, 0.54251723],\n",
       "       [0.60152659, 0.39847341],\n",
       "       [0.7794786 , 0.2205214 ],\n",
       "       [0.97907609, 0.02092391],\n",
       "       [0.99190326, 0.00809674],\n",
       "       [0.88756203, 0.11243797],\n",
       "       [0.93112847, 0.06887153],\n",
       "       [0.93777207, 0.06222793],\n",
       "       [0.89631927, 0.10368073],\n",
       "       [0.42510244, 0.57489756],\n",
       "       [0.99334832, 0.00665168],\n",
       "       [0.98215286, 0.01784714],\n",
       "       [0.91464094, 0.08535906],\n",
       "       [0.96767946, 0.03232054],\n",
       "       [0.97684886, 0.02315114],\n",
       "       [0.76911283, 0.23088717],\n",
       "       [0.70245574, 0.29754426],\n",
       "       [0.89000941, 0.10999059],\n",
       "       [0.98513096, 0.01486904],\n",
       "       [0.95966829, 0.04033171],\n",
       "       [0.68270688, 0.31729312],\n",
       "       [0.87133918, 0.12866082],\n",
       "       [0.90804286, 0.09195714],\n",
       "       [0.93452547, 0.06547453],\n",
       "       [0.97589752, 0.02410248],\n",
       "       [0.93202412, 0.06797588],\n",
       "       [0.93186695, 0.06813305],\n",
       "       [0.94675329, 0.05324671],\n",
       "       [0.99020778, 0.00979222],\n",
       "       [0.40942765, 0.59057235],\n",
       "       [0.76333284, 0.23666716],\n",
       "       [0.98668531, 0.01331469],\n",
       "       [0.92131033, 0.07868967],\n",
       "       [0.76154941, 0.23845059],\n",
       "       [0.78926871, 0.21073129],\n",
       "       [0.85797458, 0.14202542],\n",
       "       [0.88428779, 0.11571221],\n",
       "       [0.94670613, 0.05329387],\n",
       "       [0.98288088, 0.01711912],\n",
       "       [0.93902819, 0.06097181],\n",
       "       [0.94347858, 0.05652142],\n",
       "       [0.97474205, 0.02525795],\n",
       "       [0.70956329, 0.29043671],\n",
       "       [0.9281545 , 0.0718455 ],\n",
       "       [0.95852215, 0.04147785],\n",
       "       [0.93704268, 0.06295732],\n",
       "       [0.98618111, 0.01381889],\n",
       "       [0.97494524, 0.02505476],\n",
       "       [0.97785539, 0.02214461],\n",
       "       [0.95204232, 0.04795768],\n",
       "       [0.98541299, 0.01458701],\n",
       "       [0.98185253, 0.01814747],\n",
       "       [0.97406106, 0.02593894],\n",
       "       [0.8653539 , 0.1346461 ],\n",
       "       [0.93135287, 0.06864713],\n",
       "       [0.96332833, 0.03667167],\n",
       "       [0.97802904, 0.02197096],\n",
       "       [0.84513996, 0.15486004],\n",
       "       [0.96862785, 0.03137215],\n",
       "       [0.97561997, 0.02438003],\n",
       "       [0.84838833, 0.15161167],\n",
       "       [0.95298455, 0.04701545],\n",
       "       [0.92106436, 0.07893564],\n",
       "       [0.94434404, 0.05565596],\n",
       "       [0.92266309, 0.07733691],\n",
       "       [0.49316791, 0.50683209],\n",
       "       [0.84616426, 0.15383574],\n",
       "       [0.90368915, 0.09631085],\n",
       "       [0.97025187, 0.02974813],\n",
       "       [0.36669838, 0.63330162],\n",
       "       [0.76639643, 0.23360357],\n",
       "       [0.53840347, 0.46159653],\n",
       "       [0.9298241 , 0.0701759 ],\n",
       "       [0.93049899, 0.06950101],\n",
       "       [0.94829044, 0.05170956],\n",
       "       [0.76575635, 0.23424365],\n",
       "       [0.79245948, 0.20754052],\n",
       "       [0.82670353, 0.17329647],\n",
       "       [0.83519513, 0.16480487],\n",
       "       [0.25330701, 0.74669299],\n",
       "       [0.79240091, 0.20759909],\n",
       "       [0.93771445, 0.06228555],\n",
       "       [0.97764598, 0.02235402]])"
      ]
     },
     "execution_count": 56,
     "metadata": {},
     "output_type": "execute_result"
    }
   ],
   "source": [
    "onemodel5.fit(X_train,Y_train)\n",
    "onemodel5.predict_proba(test_dummy2)"
   ]
  },
  {
   "cell_type": "code",
   "execution_count": 57,
   "metadata": {},
   "outputs": [
    {
     "name": "stderr",
     "output_type": "stream",
     "text": [
      "[Parallel(n_jobs=-1)]: Using backend LokyBackend with 4 concurrent workers.\n",
      "[Parallel(n_jobs=-1)]: Done   5 out of   5 | elapsed:    1.2s finished\n"
     ]
    },
    {
     "data": {
      "text/plain": [
       "0.7783111111111111"
      ]
     },
     "execution_count": 57,
     "metadata": {},
     "output_type": "execute_result"
    }
   ],
   "source": [
    "onemodel4 = XGBClassifier(seed=7, n_jobs=-1, n_estimators=100, random_state=7, max_depth=2, learning_rate=0.1)\n",
    "cross_val_score(onemodel4, X_train, Y_train, cv=5, n_jobs=-1, verbose=1, scoring='roc_auc').mean()"
   ]
  },
  {
   "cell_type": "code",
   "execution_count": 58,
   "metadata": {},
   "outputs": [
    {
     "name": "stderr",
     "output_type": "stream",
     "text": [
      "[Parallel(n_jobs=-1)]: Using backend LokyBackend with 4 concurrent workers.\n",
      "[Parallel(n_jobs=-1)]: Done   5 out of   5 | elapsed:    3.3s finished\n"
     ]
    },
    {
     "data": {
      "text/plain": [
       "0.8311345298880193"
      ]
     },
     "execution_count": 58,
     "metadata": {},
     "output_type": "execute_result"
    }
   ],
   "source": [
    "from sklearn.ensemble import VotingClassifier\n",
    "ensemble = VotingClassifier(estimators=[('onemodel4', onemodel4), ('onemodel5', onemodel5),('onemodel2', onemodel2)],\n",
    "                                         voting='soft', n_jobs=-1)\n",
    "cross_val_score(ensemble, X, Y, cv=5, n_jobs=-1, verbose=1, scoring='roc_auc').mean()"
   ]
  },
  {
   "cell_type": "code",
   "execution_count": 59,
   "metadata": {},
   "outputs": [],
   "source": [
    "ensemble.fit(X, Y)\n",
    "y_pred = ensemble.predict_proba(test_dummy2)[:, 1]\n",
    "sub_df = pd.DataFrame({\"Id\":test_dummy2.index, \"Attrition\": y_pred})\n",
    "sub_df.to_csv(\"SA_submission_1.csv\", index=False)"
   ]
  },
  {
   "cell_type": "markdown",
   "execution_count": null,
   "metadata": {},
   "source": [
    "# **Model without binning**"
   ]
  },
  {
   "cell_type": "code",
   "execution_count": 60,
   "metadata": {},
   "outputs": [
    {
     "data": {
      "text/plain": [
       "Attrition                     int64\n",
       "BusinessTravel               object\n",
       "Department                   object\n",
       "DistanceFromHome              int64\n",
       "Education                     int64\n",
       "EducationField               object\n",
       "EmployeeNumber                int64\n",
       "EnvironmentSatisfaction       int64\n",
       "Gender                       object\n",
       "JobInvolvement                int64\n",
       "JobRole                      object\n",
       "JobSatisfaction               int64\n",
       "MaritalStatus                object\n",
       "MonthlyIncome                 int64\n",
       "NumCompaniesWorked            int64\n",
       "OverTime                     object\n",
       "PercentSalaryHike             int64\n",
       "StockOptionLevel              int64\n",
       "TrainingTimesLastYear         int64\n",
       "YearsInCurrentRole            int64\n",
       "YearsSinceLastPromotion       int64\n",
       "YearsWithCurrManager          int64\n",
       "CommunicationSkill            int64\n",
       "age_bins                   category\n",
       "years_in_company           category\n",
       "years_in_working           category\n",
       "dtype: object"
      ]
     },
     "execution_count": 60,
     "metadata": {},
     "output_type": "execute_result"
    }
   ],
   "source": [
    "train_df.dtypes"
   ]
  },
  {
   "cell_type": "code",
   "execution_count": 61,
   "metadata": {},
   "outputs": [
    {
     "data": {
      "text/plain": [
       "Age                                  int64\n",
       "Attrition                            int64\n",
       "DistanceFromHome                     int64\n",
       "Education                            int64\n",
       "EmployeeNumber                       int64\n",
       "EnvironmentSatisfaction              int64\n",
       "JobInvolvement                       int64\n",
       "JobSatisfaction                      int64\n",
       "MonthlyIncome                        int64\n",
       "NumCompaniesWorked                   int64\n",
       "PercentSalaryHike                    int64\n",
       "PerformanceRating                    int64\n",
       "StockOptionLevel                     int64\n",
       "TotalWorkingYears                    int64\n",
       "TrainingTimesLastYear                int64\n",
       "YearsAtCompany                       int64\n",
       "YearsInCurrentRole                   int64\n",
       "YearsSinceLastPromotion              int64\n",
       "YearsWithCurrManager                 int64\n",
       "CommunicationSkill                   int64\n",
       "Behaviour                            int64\n",
       "BusinessTravel_Travel_Frequently     uint8\n",
       "BusinessTravel_Travel_Rarely         uint8\n",
       "Department_Research & Development    uint8\n",
       "Department_Sales                     uint8\n",
       "EducationField_Life Sciences         uint8\n",
       "EducationField_Marketing             uint8\n",
       "EducationField_Medical               uint8\n",
       "EducationField_Other                 uint8\n",
       "EducationField_Technical Degree      uint8\n",
       "Gender_Male                          uint8\n",
       "JobRole_Human Resources              uint8\n",
       "JobRole_Laboratory Technician        uint8\n",
       "JobRole_Manager                      uint8\n",
       "JobRole_Manufacturing Director       uint8\n",
       "JobRole_Research Director            uint8\n",
       "JobRole_Research Scientist           uint8\n",
       "JobRole_Sales Executive              uint8\n",
       "JobRole_Sales Representative         uint8\n",
       "MaritalStatus_Married                uint8\n",
       "MaritalStatus_Single                 uint8\n",
       "OverTime_Yes                         uint8\n",
       "dtype: object"
      ]
     },
     "execution_count": 61,
     "metadata": {},
     "output_type": "execute_result"
    }
   ],
   "source": [
    "train_dummy.dtypes"
   ]
  },
  {
   "cell_type": "code",
   "execution_count": 62,
   "metadata": {},
   "outputs": [],
   "source": [
    "train_dummy.drop(['Behaviour','PerformanceRating'],axis = 1,inplace = True)\n",
    "test_dummy.drop(['Behaviour','PerformanceRating'],axis = 1,inplace = True)"
   ]
  },
  {
   "cell_type": "code",
   "execution_count": 63,
   "metadata": {},
   "outputs": [],
   "source": [
    "train_dummy.drop_duplicates(inplace = True)"
   ]
  },
  {
   "cell_type": "code",
   "execution_count": 64,
   "metadata": {},
   "outputs": [
    {
     "data": {
      "text/plain": [
       "RandomForestClassifier(bootstrap=True, ccp_alpha=0.0, class_weight=None,\n",
       "                       criterion='gini', max_depth=None, max_features='auto',\n",
       "                       max_leaf_nodes=None, max_samples=None,\n",
       "                       min_impurity_decrease=0.0, min_impurity_split=None,\n",
       "                       min_samples_leaf=10, min_samples_split=2,\n",
       "                       min_weight_fraction_leaf=0.0, n_estimators=400,\n",
       "                       n_jobs=-1, oob_score=False, random_state=None, verbose=0,\n",
       "                       warm_start=False)"
      ]
     },
     "execution_count": 64,
     "metadata": {},
     "output_type": "execute_result"
    }
   ],
   "source": [
    "Y = train_dummy.Attrition\n",
    "X = train_dummy.drop(['Attrition'],axis = 1)\n",
    "X_train,X_test,Y_train,Y_test = train_test_split(X,Y,test_size = .2)\n",
    "onemodel6 = RandomForestClassifier(n_estimators=400,n_jobs = -1,min_samples_leaf=10)\n",
    "onemodel6.fit(X_train,Y_train)"
   ]
  },
  {
   "cell_type": "code",
   "execution_count": 65,
   "metadata": {},
   "outputs": [
    {
     "name": "stderr",
     "output_type": "stream",
     "text": [
      "[Parallel(n_jobs=-1)]: Using backend LokyBackend with 4 concurrent workers.\n",
      "[Parallel(n_jobs=-1)]: Done   5 out of   5 | elapsed:    3.3s finished\n"
     ]
    },
    {
     "data": {
      "text/plain": [
       "0.8210219500786664"
      ]
     },
     "execution_count": 65,
     "metadata": {},
     "output_type": "execute_result"
    }
   ],
   "source": [
    "#for submission\n",
    "cross_val_score(onemodel6,X_train,Y_train,cv = 5,n_jobs = -1,verbose = 1,scoring = 'roc_auc').mean()"
   ]
  },
  {
   "cell_type": "code",
   "execution_count": 66,
   "metadata": {},
   "outputs": [
    {
     "name": "stderr",
     "output_type": "stream",
     "text": [
      "[Parallel(n_jobs=-1)]: Using backend LokyBackend with 4 concurrent workers.\n",
      "[Parallel(n_jobs=-1)]: Done   5 out of   5 | elapsed:    0.1s finished\n"
     ]
    },
    {
     "data": {
      "text/plain": [
       "0.8376138623123698"
      ]
     },
     "execution_count": 66,
     "metadata": {},
     "output_type": "execute_result"
    }
   ],
   "source": [
    "from sklearn.ensemble import RandomForestClassifier\n",
    "from xgboost import XGBClassifier\n",
    "from lightgbm import LGBMClassifier\n",
    "\n",
    "lgbmc = LGBMClassifier(random_state=7, n_estimators=100, colsample_bytree=0.5, \n",
    "                       max_depth=2, learning_rate=0.1, boosting_type='gbdt')\n",
    "cross_val_score(lgbmc, X_train, Y_train, cv=5, n_jobs=-1, verbose=1, scoring='roc_auc').mean()"
   ]
  },
  {
   "cell_type": "code",
   "execution_count": 67,
   "metadata": {},
   "outputs": [
    {
     "name": "stderr",
     "output_type": "stream",
     "text": [
      "[Parallel(n_jobs=-1)]: Using backend LokyBackend with 4 concurrent workers.\n",
      "[Parallel(n_jobs=-1)]: Done   5 out of   5 | elapsed:    0.2s finished\n"
     ]
    },
    {
     "data": {
      "text/plain": [
       "0.83824353446443"
      ]
     },
     "execution_count": 67,
     "metadata": {},
     "output_type": "execute_result"
    }
   ],
   "source": [
    "xgbc = XGBClassifier(seed=7, n_jobs=-1, n_estimators=100, random_state=7, max_depth=2, learning_rate=0.1)\n",
    "cross_val_score(xgbc, X_train, Y_train, cv=5, n_jobs=-1, verbose=1, scoring='roc_auc').mean()"
   ]
  },
  {
   "cell_type": "code",
   "execution_count": 68,
   "metadata": {},
   "outputs": [
    {
     "name": "stderr",
     "output_type": "stream",
     "text": [
      "[Parallel(n_jobs=-1)]: Using backend LokyBackend with 4 concurrent workers.\n",
      "[Parallel(n_jobs=-1)]: Done   5 out of   5 | elapsed:    3.3s finished\n"
     ]
    },
    {
     "data": {
      "text/plain": [
       "0.8285335160858578"
      ]
     },
     "execution_count": 68,
     "metadata": {},
     "output_type": "execute_result"
    }
   ],
   "source": [
    "from sklearn.ensemble import VotingClassifier\n",
    "ensemble = VotingClassifier(estimators=[('onemodel6', onemodel6), ('xgbc', xgbc), ('lgbmc', lgbmc)],\n",
    "                                         voting='soft', n_jobs=-1)\n",
    "cross_val_score(ensemble, X, Y, cv=5, n_jobs=-1, verbose=1, scoring='roc_auc').mean()"
   ]
  },
  {
   "cell_type": "code",
   "execution_count": 69,
   "metadata": {},
   "outputs": [],
   "source": [
    "ensemble.fit(X, Y)\n",
    "y_pred = ensemble.predict_proba(test_dummy)[:, 1]\n",
    "sub_df = pd.DataFrame({\"Id\":test_dummy.index, \"Attrition\": y_pred})\n",
    "sub_df.to_csv(\"SA_submission_2.csv\", index=False)"
   ]
  },
  {
   "cell_type": "code",
   "execution_count": null,
   "metadata": {},
   "outputs": [],
   "source": []
  },
  {
   "cell_type": "code",
   "execution_count": null,
   "metadata": {},
   "outputs": [],
   "source": []
  }
 ],
 "metadata": {
  "kernelspec": {
   "display_name": "Python 3",
   "language": "python",
   "name": "python3"
  },
  "language_info": {
   "codemirror_mode": {
    "name": "ipython",
    "version": 3
   },
   "file_extension": ".py",
   "mimetype": "text/x-python",
   "name": "python",
   "nbconvert_exporter": "python",
   "pygments_lexer": "ipython3",
   "version": "3.7.6"
  }
 },
 "nbformat": 4,
 "nbformat_minor": 4
}
